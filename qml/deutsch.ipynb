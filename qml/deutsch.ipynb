{
 "cells": [
  {
   "cell_type": "code",
   "execution_count": 6,
   "id": "initial_id",
   "metadata": {
    "collapsed": true,
    "ExecuteTime": {
     "end_time": "2024-01-24T07:23:58.902857336Z",
     "start_time": "2024-01-24T07:23:58.858505243Z"
    }
   },
   "outputs": [],
   "source": [
    "from qiskit import QuantumCircuit\n",
    "from qiskit_aer import AerSimulator"
   ]
  },
  {
   "cell_type": "markdown",
   "source": [
    "## Deutsch's Algorithm\n",
    "\n",
    "It solves the Deutsch Problem.\n",
    "\n",
    "INPUT: $f: \\Sigma \\rightarrow \\Sigma$\n",
    "OUTPUT: 0 if f is a constant function else 1 if f is balanced\n",
    "\n",
    "There are 4 possible functions on single bit:\n",
    "<li>Constant 0</li>\n",
    "<li>Constant 1</li>\n",
    "<li>Same as input</li>\n",
    "<li>bit flip</li>\n"
   ],
   "metadata": {
    "collapsed": false
   },
   "id": "20d5ce925c1d9a42"
  },
  {
   "cell_type": "code",
   "outputs": [],
   "source": [
    "def deutsch_function(case: int):\n",
    "    \"\"\"\n",
    "    Deutsch's function generates a valid deutsch's function as a QuantumCircuit \n",
    "    :param case: integer value for one of the 4 cases discussed\n",
    "    :return: QuantumCircuit object\n",
    "    \"\"\"\n",
    "    if case not in [1, 2, 3, 4]:\n",
    "        raise ValueError(\"`case` must be 1, 2, 3, or 4.\")\n",
    "\n",
    "    f = QuantumCircuit(2)\n",
    "    if case in [2, 3]:\n",
    "        f.cx(0, 1)\n",
    "    if case in [3, 4]:\n",
    "        f.x(1)\n",
    "    return f"
   ],
   "metadata": {
    "collapsed": false,
    "ExecuteTime": {
     "end_time": "2024-01-24T07:24:01.191408941Z",
     "start_time": "2024-01-24T07:24:01.186378084Z"
    }
   },
   "id": "a6c9ec7c654d31b0",
   "execution_count": 7
  },
  {
   "cell_type": "code",
   "outputs": [
    {
     "data": {
      "text/plain": "               \nq_0: ──■───────\n     ┌─┴─┐┌───┐\nq_1: ┤ X ├┤ X ├\n     └───┘└───┘",
      "text/html": "<pre style=\"word-wrap: normal;white-space: pre;background: #fff0;line-height: 1.1;font-family: &quot;Courier New&quot;,Courier,monospace\">               \nq_0: ──■───────\n     ┌─┴─┐┌───┐\nq_1: ┤ X ├┤ X ├\n     └───┘└───┘</pre>"
     },
     "execution_count": 8,
     "metadata": {},
     "output_type": "execute_result"
    }
   ],
   "source": [
    "deutsch_function(3).draw()"
   ],
   "metadata": {
    "collapsed": false,
    "ExecuteTime": {
     "end_time": "2024-01-24T07:24:01.466757528Z",
     "start_time": "2024-01-24T07:24:01.461144849Z"
    }
   },
   "id": "2147e43d5a845408",
   "execution_count": 8
  },
  {
   "cell_type": "code",
   "outputs": [],
   "source": [
    "def compile_circuit(function: QuantumCircuit):\n",
    "    \"\"\"\n",
    "    Compiles a circuit for use in Deutsch's algorithm.\n",
    "    \"\"\"\n",
    "    n = function.num_qubits - 1\n",
    "    qc = QuantumCircuit(n + 1, n)\n",
    "\n",
    "    qc.x(n)                                 # Pauli X gate\n",
    "    qc.h(range(n + 1))                      # Hadamard gate\n",
    "\n",
    "    qc.barrier()\n",
    "    qc.compose(function, inplace=True)      # Use the deutsch function\n",
    "    qc.barrier()\n",
    "\n",
    "    qc.h(range(n))                          # Hadamard gate\n",
    "    qc.measure(range(n), range(n))          # Finally measure\n",
    "\n",
    "    return qc"
   ],
   "metadata": {
    "collapsed": false,
    "ExecuteTime": {
     "end_time": "2024-01-24T07:24:02.024609701Z",
     "start_time": "2024-01-24T07:24:02.018804501Z"
    }
   },
   "id": "7d0a4879128e78c0",
   "execution_count": 9
  },
  {
   "cell_type": "code",
   "outputs": [
    {
     "data": {
      "text/plain": "     ┌───┐      ░            ░ ┌───┐┌─┐\nq_0: ┤ H ├──────░───■────────░─┤ H ├┤M├\n     ├───┤┌───┐ ░ ┌─┴─┐┌───┐ ░ └───┘└╥┘\nq_1: ┤ X ├┤ H ├─░─┤ X ├┤ X ├─░───────╫─\n     └───┘└───┘ ░ └───┘└───┘ ░       ║ \nc: 1/════════════════════════════════╩═\n                                     0 ",
      "text/html": "<pre style=\"word-wrap: normal;white-space: pre;background: #fff0;line-height: 1.1;font-family: &quot;Courier New&quot;,Courier,monospace\">     ┌───┐      ░            ░ ┌───┐┌─┐\nq_0: ┤ H ├──────░───■────────░─┤ H ├┤M├\n     ├───┤┌───┐ ░ ┌─┴─┐┌───┐ ░ └───┘└╥┘\nq_1: ┤ X ├┤ H ├─░─┤ X ├┤ X ├─░───────╫─\n     └───┘└───┘ ░ └───┘└───┘ ░       ║ \nc: 1/════════════════════════════════╩═\n                                     0 </pre>"
     },
     "execution_count": 10,
     "metadata": {},
     "output_type": "execute_result"
    }
   ],
   "source": [
    "compile_circuit(\n",
    "    deutsch_function(3)\n",
    ").draw()"
   ],
   "metadata": {
    "collapsed": false,
    "ExecuteTime": {
     "end_time": "2024-01-24T07:24:03.421737360Z",
     "start_time": "2024-01-24T07:24:03.418227636Z"
    }
   },
   "id": "4fe3db13f248456b",
   "execution_count": 10
  },
  {
   "cell_type": "code",
   "outputs": [],
   "source": [
    "def deutsch_algorithm(function: QuantumCircuit):\n",
    "    \"\"\"\n",
    "    Determine if a Deutsch function is constant or balanced.\n",
    "    \"\"\"\n",
    "    qc = compile_circuit(function)\n",
    "\n",
    "    result = AerSimulator().run(qc, shots=1, memory=True).result()\n",
    "    measurements = result.get_memory()\n",
    "    if measurements[0] == \"0\":\n",
    "        return \"constant\"\n",
    "    return \"balanced\""
   ],
   "metadata": {
    "collapsed": false,
    "ExecuteTime": {
     "end_time": "2024-01-24T07:24:17.408838353Z",
     "start_time": "2024-01-24T07:24:17.398893480Z"
    }
   },
   "id": "8c1cedf298c03a69",
   "execution_count": 11
  },
  {
   "cell_type": "code",
   "outputs": [
    {
     "data": {
      "text/plain": "          \nq_0: ─────\n     ┌───┐\nq_1: ┤ X ├\n     └───┘",
      "text/html": "<pre style=\"word-wrap: normal;white-space: pre;background: #fff0;line-height: 1.1;font-family: &quot;Courier New&quot;,Courier,monospace\">          \nq_0: ─────\n     ┌───┐\nq_1: ┤ X ├\n     └───┘</pre>"
     },
     "metadata": {},
     "output_type": "display_data"
    },
    {
     "data": {
      "text/plain": "'constant'"
     },
     "execution_count": 16,
     "metadata": {},
     "output_type": "execute_result"
    }
   ],
   "source": [
    "f = deutsch_function(4)\n",
    "display(f.draw())\n",
    "deutsch_algorithm(f)"
   ],
   "metadata": {
    "collapsed": false,
    "ExecuteTime": {
     "end_time": "2024-01-24T07:25:11.011430656Z",
     "start_time": "2024-01-24T07:25:11.005076324Z"
    }
   },
   "id": "86274b94df46373a",
   "execution_count": 16
  },
  {
   "cell_type": "code",
   "outputs": [
    {
     "data": {
      "text/plain": "               \nq_0: ──■───────\n     ┌─┴─┐┌───┐\nq_1: ┤ X ├┤ X ├\n     └───┘└───┘",
      "text/html": "<pre style=\"word-wrap: normal;white-space: pre;background: #fff0;line-height: 1.1;font-family: &quot;Courier New&quot;,Courier,monospace\">               \nq_0: ──■───────\n     ┌─┴─┐┌───┐\nq_1: ┤ X ├┤ X ├\n     └───┘└───┘</pre>"
     },
     "metadata": {},
     "output_type": "display_data"
    },
    {
     "data": {
      "text/plain": "'balanced'"
     },
     "execution_count": 17,
     "metadata": {},
     "output_type": "execute_result"
    }
   ],
   "source": [
    "f = deutsch_function(3)\n",
    "display(f.draw())\n",
    "deutsch_algorithm(f)"
   ],
   "metadata": {
    "collapsed": false,
    "ExecuteTime": {
     "end_time": "2024-01-24T07:25:22.207776576Z",
     "start_time": "2024-01-24T07:25:22.199107913Z"
    }
   },
   "id": "8d8b137b67ef91b1",
   "execution_count": 17
  },
  {
   "cell_type": "code",
   "outputs": [
    {
     "data": {
      "text/plain": "          \nq_0: ──■──\n     ┌─┴─┐\nq_1: ┤ X ├\n     └───┘",
      "text/html": "<pre style=\"word-wrap: normal;white-space: pre;background: #fff0;line-height: 1.1;font-family: &quot;Courier New&quot;,Courier,monospace\">          \nq_0: ──■──\n     ┌─┴─┐\nq_1: ┤ X ├\n     └───┘</pre>"
     },
     "metadata": {},
     "output_type": "display_data"
    },
    {
     "data": {
      "text/plain": "'balanced'"
     },
     "execution_count": 18,
     "metadata": {},
     "output_type": "execute_result"
    }
   ],
   "source": [
    "f = deutsch_function(2)\n",
    "display(f.draw())\n",
    "deutsch_algorithm(f)"
   ],
   "metadata": {
    "collapsed": false,
    "ExecuteTime": {
     "end_time": "2024-01-24T07:25:25.903930110Z",
     "start_time": "2024-01-24T07:25:25.860309334Z"
    }
   },
   "id": "64711feefaf50e68",
   "execution_count": 18
  },
  {
   "cell_type": "code",
   "outputs": [
    {
     "data": {
      "text/plain": "     \nq_0: \n     \nq_1: \n     ",
      "text/html": "<pre style=\"word-wrap: normal;white-space: pre;background: #fff0;line-height: 1.1;font-family: &quot;Courier New&quot;,Courier,monospace\">     \nq_0: \n     \nq_1: \n     </pre>"
     },
     "metadata": {},
     "output_type": "display_data"
    },
    {
     "data": {
      "text/plain": "'constant'"
     },
     "execution_count": 19,
     "metadata": {},
     "output_type": "execute_result"
    }
   ],
   "source": [
    "f = deutsch_function(1)\n",
    "display(f.draw())\n",
    "deutsch_algorithm(f)"
   ],
   "metadata": {
    "collapsed": false,
    "ExecuteTime": {
     "end_time": "2024-01-24T07:25:29.834534504Z",
     "start_time": "2024-01-24T07:25:29.826339807Z"
    }
   },
   "id": "90ce097a4b61ce5d",
   "execution_count": 19
  },
  {
   "cell_type": "code",
   "outputs": [],
   "source": [],
   "metadata": {
    "collapsed": false
   },
   "id": "5ee00d08ab167350"
  }
 ],
 "metadata": {
  "kernelspec": {
   "display_name": "Python 3",
   "language": "python",
   "name": "python3"
  },
  "language_info": {
   "codemirror_mode": {
    "name": "ipython",
    "version": 2
   },
   "file_extension": ".py",
   "mimetype": "text/x-python",
   "name": "python",
   "nbconvert_exporter": "python",
   "pygments_lexer": "ipython2",
   "version": "2.7.6"
  }
 },
 "nbformat": 4,
 "nbformat_minor": 5
}

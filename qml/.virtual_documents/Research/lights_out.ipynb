from qiskit import QuantumRegister, ClassicalRegister, QuantumCircuit
from qiskit import Aer
from qiskit_aer import AerSimulator, UnitarySimulator
from qiskit import BasicAer
from qiskit.execute_function import execute
from qiskit.visualization import plot_histogram
from scipy.sparse import csr_matrix
import numpy as np


def matrix_vector_multiplication(A, x):
    """
    Perform matrix-vector multiplication using the given expression.
    
    Args:
    - A: Matrix A represented as a list of lists or numpy array.
    - x: Vector x represented as a list or numpy array.
    
    Returns:
    - result: The result of the matrix-vector multiplication.
    """
    result = []
    for row in A:
        temp_result = 0
        for i, element in enumerate(row):
            temp_result ^= element & x[i]
        result.append(temp_result)
    return result

# Example usage:
A = [[1, 1, 1, 0],
     [1, 1, 0, 1],
     [1, 0, 1, 1],
     [0, 1, 1, 1]]

x = [1, 1, 1, 0]

result = matrix_vector_multiplication(A, x)
print("Result of matrix-vector multiplication:", result)



qreg_click = QuantumRegister(4, 'click')
qreg_wb = QuantumRegister(2, 'wb')
qreg_out = QuantumRegister(4, 'out')
qreg_ors = QuantumRegister(2, 'ors')
qreg_final = QuantumRegister(1, 'final')
creg_output = ClassicalRegister(1, 'output')
creg_sv = ClassicalRegister(4, 'sv')
qreg_q = QuantumRegister(1, 'q')

circuit = QuantumCircuit(qreg_click, qreg_wb, qreg_out, qreg_ors, qreg_final, creg_output, creg_sv, qreg_q)

# circuit.reset(qreg_click)
circuit.reset(qreg_wb)
circuit.reset(qreg_out)
circuit.reset(qreg_ors)
circuit.reset(qreg_final)
circuit.reset(qreg_q)
circuit.x(qreg_q)
circuit.h(qreg_q)

# Setting up Clicks
# x click[0];
# x click[1];
# x click[2];
circuit.h(qreg_click)
circuit.barrier(qreg_click)
# Setting up workspace bits
circuit.x(qreg_wb[0])
circuit.x(qreg_wb[1])
# Equation 1 : x1 ^ x2 ^ x3 ^ a11
circuit.ccx(qreg_wb[0], qreg_click[0], qreg_out[0])
circuit.ccx(qreg_wb[0], qreg_click[1], qreg_out[0])
circuit.ccx(qreg_wb[0], qreg_click[2], qreg_out[0])
circuit.ccx(qreg_wb[0], qreg_wb[1], qreg_out[0])
circuit.barrier(qreg_out)
# Equation 2 : x1 ^ x2 ^ x4 ^ (a12 = 0)
circuit.ccx(qreg_wb[0], qreg_click[0], qreg_out[1])
circuit.ccx(qreg_wb[0], qreg_click[1], qreg_out[1])
circuit.ccx(qreg_wb[0], qreg_click[3], qreg_out[1])
circuit.barrier(qreg_out)
# Equation 3 : x1 ^ x3 ^ x4 ^ (a21 = 0)
circuit.ccx(qreg_wb[0], qreg_click[0], qreg_out[2])
circuit.ccx(qreg_wb[0], qreg_click[2], qreg_out[2])
circuit.ccx(qreg_wb[0], qreg_click[3], qreg_out[2])
circuit.barrier(qreg_out)
# Equation 4 : x2 ^ x3 ^ x4 ^ (a22 = 0)
circuit.ccx(qreg_wb[0], qreg_click[1], qreg_out[3])
circuit.ccx(qreg_wb[0], qreg_click[2], qreg_out[3])
circuit.ccx(qreg_wb[0], qreg_click[3], qreg_out[3])
circuit.barrier(qreg_out)
# Equation ORS : out[0] || out[1] || out[2] || out[3]
circuit.x(qreg_out)
circuit.barrier(qreg_out)
circuit.ccx(qreg_out[0], qreg_out[1], qreg_ors[0])
# x ors[0];
# x ors[0];
circuit.ccx(qreg_ors[0], qreg_out[2], qreg_ors[1])
# x ors[1];
# x ors[1];
circuit.ccx(qreg_ors[1], qreg_out[3], qreg_final[0])

circuit.ccx(qreg_wb[0], qreg_final[0], qreg_q[0])
circuit.measure(qreg_click, creg_sv)
circuit.measure(qreg_final, creg_output)
# x final;
# FINAL WILL BE THE OUTPUT


circuit.draw()


from qiskit.circuit.library import GroverOperator
grover_op = GroverOperator(circuit)
grover_op.decompose().draw(output="mpl", style="iqp")


backend = Aer.get_backend('aer_simulator')
job = AerSimulator.run(backend, circuits=[circuit])
result = job.result().get_counts()


print(result)


plot_histogram(result)


## SAME CIRCUIT WITH COMMENTED MEASURES AND RESETS
## FOR GENERATING THE UNITARY MATRIX
qreg_click = QuantumRegister(4, 'click')
qreg_wb = QuantumRegister(2, 'wb')
qreg_out = QuantumRegister(4, 'out')
qreg_ors = QuantumRegister(2, 'ors')
qreg_final = QuantumRegister(1, 'final')
creg_output = ClassicalRegister(1, 'output')
creg_sv = ClassicalRegister(4, 'sv')

circuit = QuantumCircuit(qreg_click, qreg_wb, qreg_out, qreg_ors, qreg_final, creg_output, creg_sv)

# circuit.reset(qreg_click)
# circuit.reset(qreg_wb)
# circuit.reset(qreg_out)
# circuit.reset(qreg_ors)
# circuit.reset(qreg_final)
# Setting up Clicks
# x click[0];
# x click[1];
# x click[2];
circuit.h(qreg_click)
circuit.barrier(qreg_click)
# Setting up workspace bits
circuit.x(qreg_wb[0])
circuit.x(qreg_wb[1])
# Equation 1 : x1 ^ x2 ^ x3 ^ a11
circuit.ccx(qreg_wb[0], qreg_click[0], qreg_out[0])
circuit.ccx(qreg_wb[0], qreg_click[1], qreg_out[0])
circuit.ccx(qreg_wb[0], qreg_click[2], qreg_out[0])
circuit.ccx(qreg_wb[0], qreg_wb[1], qreg_out[0])
circuit.barrier(qreg_out)
# Equation 2 : x1 ^ x2 ^ x4 ^ (a12 = 0)
circuit.ccx(qreg_wb[0], qreg_click[0], qreg_out[1])
circuit.ccx(qreg_wb[0], qreg_click[1], qreg_out[1])
circuit.ccx(qreg_wb[0], qreg_click[3], qreg_out[1])
circuit.barrier(qreg_out)
# Equation 3 : x1 ^ x3 ^ x4 ^ (a21 = 0)
circuit.ccx(qreg_wb[0], qreg_click[0], qreg_out[2])
circuit.ccx(qreg_wb[0], qreg_click[2], qreg_out[2])
circuit.ccx(qreg_wb[0], qreg_click[3], qreg_out[2])
circuit.barrier(qreg_out)
# Equation 4 : x2 ^ x3 ^ x4 ^ (a22 = 0)
circuit.ccx(qreg_wb[0], qreg_click[1], qreg_out[3])
circuit.ccx(qreg_wb[0], qreg_click[2], qreg_out[3])
circuit.ccx(qreg_wb[0], qreg_click[3], qreg_out[3])
circuit.barrier(qreg_out)
# Equation ORS : out[0] || out[1] || out[2] || out[3]
circuit.x(qreg_out)
circuit.barrier(qreg_out)
circuit.ccx(qreg_out[0], qreg_out[1], qreg_ors[0])
# x ors[0];
# x ors[0];
circuit.ccx(qreg_ors[0], qreg_out[2], qreg_ors[1])
# x ors[1];
# x ors[1];
circuit.ccx(qreg_ors[1], qreg_out[3], qreg_final[0])


# circuit.measure(qreg_click, creg_sv)
# circuit.measure(qreg_final, creg_output)
# x final;
# FINAL WILL BE THE OUTPUT


backend = BasicAer.get_backend('unitary_simulator')


job = execute(circuit, backend)


result = job.result()


unitary_mat = result.get_unitary()

print(unitary_mat.shape)


def unitary_to_sparse(unitary_matrix):
    assert np.allclose(unitary_matrix @ unitary_matrix.conj().T, np.eye(unitary_matrix.shape[0])), "Matrix is not unitary."
    row, col = np.where(unitary_matrix != 0)
    data = unitary_matrix[row, col]
    # Create sparse matrix in Compressed Sparse Row (CSR) format
    sparse_matrix = csr_matrix((data, (row, col)), shape=unitary_matrix.shape)

    return sparse_matrix

sparse_matrix = unitary_to_sparse(unitary_mat)
print(sparse_matrix)


backend = UnitarySimulator(precision='single')
job = backend.run(circuits=[circuit])


job.result().get_unitary()





from qiskit.circuit.library import GroverOperator, ZGate
from qiskit.visualization import plot_distribution


def matrix_vector_multiplication(A, x, p):
    result = []
    i = 0
    for row in A:
        temp_result = 0
        for i, element in enumerate(row):
            temp_result ^= element & x[i]
        result.append(temp_result ^ p[i])
        i += 1
    
    return result


def f(x):
    A = [[1, 1, 1, 0],
         [1, 1, 0, 1],
         [1, 0, 1, 1],
         [0, 1, 1, 1]]
    p = [1, 0, 0, 0]
    val = matrix_vector_multiplication(A, x, p)
    for i in val:
        if i != 0:
            return False
    return True
    


def grover_oracle():
    oracle = QuantumCircuit()      
    
    
    
    return circuit
    




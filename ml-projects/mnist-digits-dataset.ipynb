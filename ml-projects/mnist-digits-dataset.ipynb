{
 "cells": [
  {
   "cell_type": "code",
   "execution_count": 1,
   "id": "initial_id",
   "metadata": {
    "collapsed": true,
    "jupyter": {
     "outputs_hidden": true
    },
    "ExecuteTime": {
     "end_time": "2024-01-12T10:44:59.049622738Z",
     "start_time": "2024-01-12T10:44:54.786328137Z"
    }
   },
   "outputs": [
    {
     "name": "stderr",
     "output_type": "stream",
     "text": [
      "2024-01-12 16:14:55.287721: I tensorflow/core/util/port.cc:113] oneDNN custom operations are on. You may see slightly different numerical results due to floating-point round-off errors from different computation orders. To turn them off, set the environment variable `TF_ENABLE_ONEDNN_OPTS=0`.\n",
      "2024-01-12 16:14:55.503283: E external/local_xla/xla/stream_executor/cuda/cuda_dnn.cc:9261] Unable to register cuDNN factory: Attempting to register factory for plugin cuDNN when one has already been registered\n",
      "2024-01-12 16:14:55.503340: E external/local_xla/xla/stream_executor/cuda/cuda_fft.cc:607] Unable to register cuFFT factory: Attempting to register factory for plugin cuFFT when one has already been registered\n",
      "2024-01-12 16:14:55.552187: E external/local_xla/xla/stream_executor/cuda/cuda_blas.cc:1515] Unable to register cuBLAS factory: Attempting to register factory for plugin cuBLAS when one has already been registered\n",
      "2024-01-12 16:14:55.639885: I tensorflow/core/platform/cpu_feature_guard.cc:182] This TensorFlow binary is optimized to use available CPU instructions in performance-critical operations.\n",
      "To enable the following instructions: AVX2 AVX512F AVX512_VNNI FMA, in other operations, rebuild TensorFlow with the appropriate compiler flags.\n",
      "2024-01-12 16:14:57.200794: W tensorflow/compiler/tf2tensorrt/utils/py_utils.cc:38] TF-TRT Warning: Could not find TensorRT\n"
     ]
    }
   ],
   "source": [
    "import os\n",
    "# os.environ['CUDA_VISIBLE_DEVICES'] = '0'\n",
    "import tensorflow as tf\n",
    "from tensorflow.keras import layers, models\n",
    "from tensorflow.keras.models import Model\n",
    "import numpy as np\n",
    "import matplotlib.pyplot as plt"
   ]
  },
  {
   "cell_type": "code",
   "execution_count": 2,
   "id": "449f7e872495a430",
   "metadata": {
    "collapsed": false,
    "ExecuteTime": {
     "end_time": "2024-01-12T10:44:59.454990897Z",
     "start_time": "2024-01-12T10:44:59.044598508Z"
    }
   },
   "outputs": [],
   "source": [
    "mnist = tf.keras.datasets.mnist\n",
    "(train_images, train_labels), (test_images, test_labels) = mnist.load_data()"
   ]
  },
  {
   "cell_type": "code",
   "execution_count": 3,
   "id": "90528e180cffb83c",
   "metadata": {
    "collapsed": false,
    "ExecuteTime": {
     "end_time": "2024-01-12T10:44:59.527043392Z",
     "start_time": "2024-01-12T10:44:59.446704414Z"
    }
   },
   "outputs": [],
   "source": [
    "train_images = train_images.reshape((60000, 28, 28, 1)).astype('float32') / 255\n",
    "test_images = test_images.reshape((10000, 28, 28, 1)).astype('float32') / 255"
   ]
  },
  {
   "cell_type": "code",
   "execution_count": 4,
   "id": "ae658430d5226079",
   "metadata": {
    "collapsed": false,
    "ExecuteTime": {
     "end_time": "2024-01-12T10:44:59.542069194Z",
     "start_time": "2024-01-12T10:44:59.531274292Z"
    }
   },
   "outputs": [],
   "source": [
    "train_labels = tf.keras.utils.to_categorical(train_labels)\n",
    "test_labels = tf.keras.utils.to_categorical(test_labels)"
   ]
  },
  {
   "cell_type": "code",
   "execution_count": 5,
   "id": "8d318634eed10b2",
   "metadata": {
    "collapsed": false,
    "ExecuteTime": {
     "end_time": "2024-01-12T10:45:00.879377741Z",
     "start_time": "2024-01-12T10:44:59.541241483Z"
    }
   },
   "outputs": [
    {
     "name": "stderr",
     "output_type": "stream",
     "text": [
      "2024-01-12 16:15:00.462812: I external/local_xla/xla/stream_executor/cuda/cuda_executor.cc:901] successful NUMA node read from SysFS had negative value (-1), but there must be at least one NUMA node, so returning NUMA node zero. See more at https://github.com/torvalds/linux/blob/v6.0/Documentation/ABI/testing/sysfs-bus-pci#L344-L355\n",
      "2024-01-12 16:15:00.564644: I external/local_xla/xla/stream_executor/cuda/cuda_executor.cc:901] successful NUMA node read from SysFS had negative value (-1), but there must be at least one NUMA node, so returning NUMA node zero. See more at https://github.com/torvalds/linux/blob/v6.0/Documentation/ABI/testing/sysfs-bus-pci#L344-L355\n",
      "2024-01-12 16:15:00.564855: I external/local_xla/xla/stream_executor/cuda/cuda_executor.cc:901] successful NUMA node read from SysFS had negative value (-1), but there must be at least one NUMA node, so returning NUMA node zero. See more at https://github.com/torvalds/linux/blob/v6.0/Documentation/ABI/testing/sysfs-bus-pci#L344-L355\n",
      "2024-01-12 16:15:00.567537: I external/local_xla/xla/stream_executor/cuda/cuda_executor.cc:901] successful NUMA node read from SysFS had negative value (-1), but there must be at least one NUMA node, so returning NUMA node zero. See more at https://github.com/torvalds/linux/blob/v6.0/Documentation/ABI/testing/sysfs-bus-pci#L344-L355\n",
      "2024-01-12 16:15:00.567832: I external/local_xla/xla/stream_executor/cuda/cuda_executor.cc:901] successful NUMA node read from SysFS had negative value (-1), but there must be at least one NUMA node, so returning NUMA node zero. See more at https://github.com/torvalds/linux/blob/v6.0/Documentation/ABI/testing/sysfs-bus-pci#L344-L355\n",
      "2024-01-12 16:15:00.567943: I external/local_xla/xla/stream_executor/cuda/cuda_executor.cc:901] successful NUMA node read from SysFS had negative value (-1), but there must be at least one NUMA node, so returning NUMA node zero. See more at https://github.com/torvalds/linux/blob/v6.0/Documentation/ABI/testing/sysfs-bus-pci#L344-L355\n",
      "2024-01-12 16:15:00.649711: I external/local_xla/xla/stream_executor/cuda/cuda_executor.cc:901] successful NUMA node read from SysFS had negative value (-1), but there must be at least one NUMA node, so returning NUMA node zero. See more at https://github.com/torvalds/linux/blob/v6.0/Documentation/ABI/testing/sysfs-bus-pci#L344-L355\n",
      "2024-01-12 16:15:00.650042: I external/local_xla/xla/stream_executor/cuda/cuda_executor.cc:901] successful NUMA node read from SysFS had negative value (-1), but there must be at least one NUMA node, so returning NUMA node zero. See more at https://github.com/torvalds/linux/blob/v6.0/Documentation/ABI/testing/sysfs-bus-pci#L344-L355\n",
      "2024-01-12 16:15:00.650247: I external/local_xla/xla/stream_executor/cuda/cuda_executor.cc:901] successful NUMA node read from SysFS had negative value (-1), but there must be at least one NUMA node, so returning NUMA node zero. See more at https://github.com/torvalds/linux/blob/v6.0/Documentation/ABI/testing/sysfs-bus-pci#L344-L355\n",
      "2024-01-12 16:15:00.650394: I tensorflow/core/common_runtime/gpu/gpu_device.cc:1929] Created device /job:localhost/replica:0/task:0/device:GPU:0 with 1587 MB memory:  -> device: 0, name: NVIDIA GeForce MX450, pci bus id: 0000:01:00.0, compute capability: 7.5\n"
     ]
    }
   ],
   "source": [
    "model = models.Sequential()\n",
    "model.add(layers.Conv2D(32, (3, 3), activation='relu', input_shape=(28, 28, 1)))\n",
    "model.add(layers.MaxPooling2D((2, 2)))\n",
    "model.add(layers.Conv2D(64, (3, 3), activation='relu'))\n",
    "model.add(layers.MaxPooling2D((2, 2)))\n",
    "model.add(layers.Conv2D(64, (3, 3), activation='relu'))\n",
    "model.add(layers.Flatten())\n",
    "model.add(layers.Dense(64, activation='relu'))\n",
    "model.add(layers.Dense(10, activation='softmax'))"
   ]
  },
  {
   "cell_type": "code",
   "execution_count": 6,
   "id": "7c174fde6630aef",
   "metadata": {
    "collapsed": false,
    "ExecuteTime": {
     "end_time": "2024-01-12T10:45:00.894580071Z",
     "start_time": "2024-01-12T10:45:00.872583934Z"
    }
   },
   "outputs": [],
   "source": [
    "model.compile(optimizer='adam',loss='categorical_crossentropy', metrics=['accuracy'])"
   ]
  },
  {
   "cell_type": "code",
   "execution_count": 7,
   "id": "4bb9a04b7413fa08",
   "metadata": {
    "collapsed": false,
    "ExecuteTime": {
     "end_time": "2024-01-12T10:45:26.469771919Z",
     "start_time": "2024-01-12T10:45:00.892598919Z"
    }
   },
   "outputs": [
    {
     "name": "stdout",
     "output_type": "stream",
     "text": [
      "Epoch 1/5\n"
     ]
    },
    {
     "name": "stderr",
     "output_type": "stream",
     "text": [
      "2024-01-12 16:15:02.353599: I external/local_xla/xla/stream_executor/cuda/cuda_dnn.cc:454] Loaded cuDNN version 8904\n",
      "2024-01-12 16:15:03.226056: I external/local_xla/xla/service/service.cc:168] XLA service 0x7efed9886100 initialized for platform CUDA (this does not guarantee that XLA will be used). Devices:\n",
      "2024-01-12 16:15:03.226090: I external/local_xla/xla/service/service.cc:176]   StreamExecutor device (0): NVIDIA GeForce MX450, Compute Capability 7.5\n",
      "2024-01-12 16:15:03.238079: I tensorflow/compiler/mlir/tensorflow/utils/dump_mlir_util.cc:269] disabling MLIR crash reproducer, set env var `MLIR_CRASH_REPRODUCER_DIRECTORY` to enable.\n",
      "WARNING: All log messages before absl::InitializeLog() is called are written to STDERR\n",
      "I0000 00:00:1705056303.364904  121061 device_compiler.h:186] Compiled cluster using XLA!  This line is logged at most once for the lifetime of the process.\n"
     ]
    },
    {
     "name": "stdout",
     "output_type": "stream",
     "text": [
      "750/750 [==============================] - 9s 7ms/step - loss: 0.2094 - accuracy: 0.9372 - val_loss: 0.0800 - val_accuracy: 0.9772\n",
      "Epoch 2/5\n",
      "750/750 [==============================] - 4s 6ms/step - loss: 0.0591 - accuracy: 0.9812 - val_loss: 0.0510 - val_accuracy: 0.9857\n",
      "Epoch 3/5\n",
      "750/750 [==============================] - 4s 5ms/step - loss: 0.0417 - accuracy: 0.9868 - val_loss: 0.0468 - val_accuracy: 0.9854\n",
      "Epoch 4/5\n",
      "750/750 [==============================] - 4s 5ms/step - loss: 0.0318 - accuracy: 0.9897 - val_loss: 0.0426 - val_accuracy: 0.9877\n",
      "Epoch 5/5\n",
      "750/750 [==============================] - 4s 5ms/step - loss: 0.0253 - accuracy: 0.9918 - val_loss: 0.0409 - val_accuracy: 0.9887\n"
     ]
    },
    {
     "data": {
      "text/plain": "<keras.src.callbacks.History at 0x7f00b9d53450>"
     },
     "execution_count": 7,
     "metadata": {},
     "output_type": "execute_result"
    }
   ],
   "source": [
    "model.fit(train_images, train_labels, epochs=5, batch_size=64, validation_split=0.2)"
   ]
  },
  {
   "cell_type": "code",
   "execution_count": 8,
   "id": "b9697a5b82212bc9",
   "metadata": {
    "collapsed": false,
    "ExecuteTime": {
     "end_time": "2024-01-12T10:45:27.517674863Z",
     "start_time": "2024-01-12T10:45:26.470494868Z"
    }
   },
   "outputs": [
    {
     "name": "stdout",
     "output_type": "stream",
     "text": [
      "313/313 [==============================] - 1s 3ms/step - loss: 0.0297 - accuracy: 0.9906\n",
      "Test accuracy: 0.9905999898910522\n"
     ]
    }
   ],
   "source": [
    "test_loss, test_acc = model.evaluate(test_images, test_labels)\n",
    "print(f'Test accuracy: {test_acc}')"
   ]
  },
  {
   "cell_type": "code",
   "execution_count": 9,
   "id": "c3821433537bbe4e",
   "metadata": {
    "collapsed": false,
    "ExecuteTime": {
     "end_time": "2024-01-12T10:45:27.522531320Z",
     "start_time": "2024-01-12T10:45:27.518451555Z"
    }
   },
   "outputs": [
    {
     "data": {
      "text/plain": "[PhysicalDevice(name='/physical_device:CPU:0', device_type='CPU'),\n PhysicalDevice(name='/physical_device:GPU:0', device_type='GPU')]"
     },
     "execution_count": 9,
     "metadata": {},
     "output_type": "execute_result"
    }
   ],
   "source": [
    "tf.config.list_physical_devices()"
   ]
  },
  {
   "cell_type": "code",
   "execution_count": 10,
   "id": "a64eb116f0857da0",
   "metadata": {
    "collapsed": false,
    "ExecuteTime": {
     "end_time": "2024-01-12T10:45:28.330350990Z",
     "start_time": "2024-01-12T10:45:27.528431496Z"
    }
   },
   "outputs": [
    {
     "name": "stdout",
     "output_type": "stream",
     "text": [
      "1/1 [==============================] - 0s 361ms/step\n",
      "Skipping visualization for layer 5 due to unexpected shape: (1, 576)\n",
      "Skipping visualization for layer 6 due to unexpected shape: (1, 64)\n",
      "Skipping visualization for layer 7 due to unexpected shape: (1, 10)\n"
     ]
    },
    {
     "data": {
      "text/plain": "<Figure size 2000x2000 with 5 Axes>",
      "image/png": "[encoded data removed]"
     },
     "metadata": {},
     "output_type": "display_data"
    }
   ],
   "source": [
    "sample_image = test_images[0]\n",
    "sample_image = np.expand_dims(sample_image, axis=0)  # Add batch dimension\n",
    "sample_label = np.argmax(test_labels[0])\n",
    "\n",
    "layer_outputs = [layer.output for layer in model.layers]\n",
    "activation_model = Model(inputs=model.input, outputs=layer_outputs)\n",
    "\n",
    "activations = activation_model.predict(sample_image)\n",
    "\n",
    "plt.figure(figsize=(20, 20))\n",
    "plt.subplot(1, len(activations) + 1, 1)\n",
    "plt.imshow(sample_image[0, :, :, 0], cmap='viridis')\n",
    "plt.title('Original Image')\n",
    "\n",
    "for i, activation in enumerate(activations[1:]):\n",
    "    if len(activation.shape) == 4:  \n",
    "        plt.subplot(1, len(activations) + 1, i + 2)\n",
    "        plt.imshow(activation[0, :, :, 0], cmap='viridis')\n",
    "        plt.title(f'Layer {i + 1}')\n",
    "    else:\n",
    "        print(f\"Skipping visualization for layer {i + 1} due to unexpected shape: {activation.shape}\")\n",
    "\n",
    "plt.show()"
   ]
  },
  {
   "cell_type": "code",
   "execution_count": 10,
   "id": "f73aa383d3a512ff",
   "metadata": {
    "collapsed": false,
    "ExecuteTime": {
     "end_time": "2024-01-12T10:45:28.330739964Z",
     "start_time": "2024-01-12T10:45:28.323563392Z"
    }
   },
   "outputs": [],
   "source": []
  },
  {
   "cell_type": "markdown",
   "id": "446e56a98730b825",
   "metadata": {
    "collapsed": false
   },
   "source": [
    "# Pytorch"
   ]
  },
  {
   "cell_type": "code",
   "execution_count": 11,
   "id": "5e48a47a1fbab7b7",
   "metadata": {
    "collapsed": false,
    "ExecuteTime": {
     "end_time": "2024-01-12T10:45:30.132597339Z",
     "start_time": "2024-01-12T10:45:28.326486556Z"
    }
   },
   "outputs": [],
   "source": [
    "import torch\n",
    "import torch.nn as nn\n",
    "import torchvision\n",
    "import torchvision.transforms as transforms\n",
    "import matplotlib.pyplot as plt"
   ]
  },
  {
   "cell_type": "code",
   "execution_count": 12,
   "id": "af31f0af64c31619",
   "metadata": {
    "collapsed": false,
    "ExecuteTime": {
     "end_time": "2024-01-12T10:45:30.140883291Z",
     "start_time": "2024-01-12T10:45:30.135326310Z"
    }
   },
   "outputs": [
    {
     "data": {
      "text/plain": "False"
     },
     "execution_count": 12,
     "metadata": {},
     "output_type": "execute_result"
    }
   ],
   "source": [
    "torch.cuda.is_available()"
   ]
  },
  {
   "cell_type": "code",
   "execution_count": 13,
   "id": "5766d08d0913ec3b",
   "metadata": {
    "collapsed": false,
    "ExecuteTime": {
     "end_time": "2024-01-12T10:45:30.142213449Z",
     "start_time": "2024-01-12T10:45:30.137889125Z"
    }
   },
   "outputs": [],
   "source": [
    "device = torch.device('cuda' if torch.cuda.is_available() else 'cpu')"
   ]
  },
  {
   "cell_type": "code",
   "execution_count": 14,
   "id": "b577df1fd26825ee",
   "metadata": {
    "collapsed": false,
    "ExecuteTime": {
     "end_time": "2024-01-12T10:45:30.144792598Z",
     "start_time": "2024-01-12T10:45:30.141698688Z"
    }
   },
   "outputs": [],
   "source": [
    "num_epochs = 5\n",
    "batch_size = 64\n",
    "learning_rate = 0.001"
   ]
  },
  {
   "cell_type": "code",
   "execution_count": 15,
   "id": "3b02b0e4ed99865d",
   "metadata": {
    "collapsed": false,
    "ExecuteTime": {
     "end_time": "2024-01-12T10:45:30.225956724Z",
     "start_time": "2024-01-12T10:45:30.144926013Z"
    }
   },
   "outputs": [],
   "source": [
    "train_dataset = torchvision.datasets.MNIST(root=\"./data\", train=True, transform=transforms.ToTensor(), download=True)\n",
    "test_dataset = torchvision.datasets.MNIST(root=\"./data\", train=False, transform=transforms.ToTensor())"
   ]
  },
  {
   "cell_type": "code",
   "execution_count": 16,
   "id": "529aa526bb906014",
   "metadata": {
    "collapsed": false,
    "ExecuteTime": {
     "end_time": "2024-01-12T10:45:30.268555937Z",
     "start_time": "2024-01-12T10:45:30.226374504Z"
    }
   },
   "outputs": [
    {
     "name": "stdout",
     "output_type": "stream",
     "text": [
      "Training size:  938\n",
      "Image Dims:  torch.Size([1, 28, 28])\n"
     ]
    }
   ],
   "source": [
    "train_loader = torch.utils.data.DataLoader(dataset=train_dataset, batch_size=batch_size, shuffle=True)\n",
    "test_loader = torch.utils.data.DataLoader(dataset=test_dataset, batch_size=batch_size, shuffle=False)\n",
    "print(\"Training size: \", len(train_loader))\n",
    "print(\"Image Dims: \", train_dataset[0][0].size())"
   ]
  },
  {
   "cell_type": "code",
   "execution_count": 17,
   "id": "d9e0dd75dc5bc3d9",
   "metadata": {
    "collapsed": false,
    "ExecuteTime": {
     "end_time": "2024-01-12T10:45:30.270859607Z",
     "start_time": "2024-01-12T10:45:30.268100847Z"
    }
   },
   "outputs": [],
   "source": [
    "class CNN(nn.Module):\n",
    "    def __init__(self):\n",
    "        super(CNN, self).__init__()\n",
    "        \n",
    "        self.layer1 = nn.Sequential(\n",
    "            nn.Conv2d(1, 32, kernel_size=3, padding=1),\n",
    "            nn.ReLU(),\n",
    "            nn.MaxPool2d(2)\n",
    "        )\n",
    "        \n",
    "        self.layer2 = nn.Sequential(\n",
    "            nn.Conv2d(32, 64, kernel_size=3),\n",
    "            nn.ReLU(),\n",
    "            nn.MaxPool2d(2)\n",
    "        )\n",
    "        \n",
    "        self.layer3 = nn.Sequential(\n",
    "            nn.Conv2d(64, 64, kernel_size=3),\n",
    "            nn.ReLU()\n",
    "        )\n",
    "        \n",
    "        self.flatten = nn.Flatten()\n",
    "        \n",
    "        self.fc1 = nn.Linear(64*4*4, 64)\n",
    "        self.fc2 = nn.Linear(64, 10)\n",
    "    \n",
    "    def forward(self, x):\n",
    "        out = self.layer1(x)\n",
    "        out = self.layer2(out)\n",
    "        out = self.layer3(out)\n",
    "        out = self.flatten(out)\n",
    "        out = self.fc1(out)\n",
    "        out = self.fc2(out)\n",
    "        return out"
   ]
  },
  {
   "cell_type": "code",
   "execution_count": 18,
   "id": "4e4b1074265d5060",
   "metadata": {
    "collapsed": false,
    "ExecuteTime": {
     "end_time": "2024-01-12T10:45:30.272382813Z",
     "start_time": "2024-01-12T10:45:30.268374162Z"
    }
   },
   "outputs": [],
   "source": [
    "model = CNN().to(device)"
   ]
  },
  {
   "cell_type": "code",
   "execution_count": 19,
   "id": "2398a4027413db26",
   "metadata": {
    "collapsed": false,
    "ExecuteTime": {
     "end_time": "2024-01-12T10:45:30.273672089Z",
     "start_time": "2024-01-12T10:45:30.268509618Z"
    }
   },
   "outputs": [],
   "source": [
    "criterion = nn.CrossEntropyLoss()\n",
    "optimizer = torch.optim.Adam(model.parameters(), lr=learning_rate)"
   ]
  },
  {
   "cell_type": "code",
   "execution_count": 20,
   "id": "173224075a6fb707",
   "metadata": {
    "collapsed": false,
    "ExecuteTime": {
     "end_time": "2024-01-12T10:47:32.879429109Z",
     "start_time": "2024-01-12T10:45:30.268674967Z"
    }
   },
   "outputs": [
    {
     "name": "stdout",
     "output_type": "stream",
     "text": [
      "Epoch [1/5], Step [100/938], Loss:  0.4067\n",
      "Epoch [1/5], Step [200/938], Loss:  0.1436\n",
      "Epoch [1/5], Step [300/938], Loss:  0.1264\n",
      "Epoch [1/5], Step [400/938], Loss:  0.0579\n",
      "Epoch [1/5], Step [500/938], Loss:  0.0199\n",
      "Epoch [1/5], Step [600/938], Loss:  0.0306\n",
      "Epoch [1/5], Step [700/938], Loss:  0.0333\n",
      "Epoch [1/5], Step [800/938], Loss:  0.0110\n",
      "Epoch [1/5], Step [900/938], Loss:  0.0141\n",
      "Epoch [2/5], Step [100/938], Loss:  0.0237\n",
      "Epoch [2/5], Step [200/938], Loss:  0.0028\n",
      "Epoch [2/5], Step [300/938], Loss:  0.0398\n",
      "Epoch [2/5], Step [400/938], Loss:  0.0966\n",
      "Epoch [2/5], Step [500/938], Loss:  0.0126\n",
      "Epoch [2/5], Step [600/938], Loss:  0.0599\n",
      "Epoch [2/5], Step [700/938], Loss:  0.1284\n",
      "Epoch [2/5], Step [800/938], Loss:  0.0275\n",
      "Epoch [2/5], Step [900/938], Loss:  0.1057\n",
      "Epoch [3/5], Step [100/938], Loss:  0.0788\n",
      "Epoch [3/5], Step [200/938], Loss:  0.0051\n",
      "Epoch [3/5], Step [300/938], Loss:  0.0044\n",
      "Epoch [3/5], Step [400/938], Loss:  0.0109\n",
      "Epoch [3/5], Step [500/938], Loss:  0.0185\n",
      "Epoch [3/5], Step [600/938], Loss:  0.0201\n",
      "Epoch [3/5], Step [700/938], Loss:  0.0060\n",
      "Epoch [3/5], Step [800/938], Loss:  0.0118\n",
      "Epoch [3/5], Step [900/938], Loss:  0.0079\n",
      "Epoch [4/5], Step [100/938], Loss:  0.0022\n",
      "Epoch [4/5], Step [200/938], Loss:  0.0022\n",
      "Epoch [4/5], Step [300/938], Loss:  0.0118\n",
      "Epoch [4/5], Step [400/938], Loss:  0.0016\n",
      "Epoch [4/5], Step [500/938], Loss:  0.0053\n",
      "Epoch [4/5], Step [600/938], Loss:  0.0128\n",
      "Epoch [4/5], Step [700/938], Loss:  0.0519\n",
      "Epoch [4/5], Step [800/938], Loss:  0.0092\n",
      "Epoch [4/5], Step [900/938], Loss:  0.0916\n",
      "Epoch [5/5], Step [100/938], Loss:  0.0056\n",
      "Epoch [5/5], Step [200/938], Loss:  0.0265\n",
      "Epoch [5/5], Step [300/938], Loss:  0.0009\n",
      "Epoch [5/5], Step [400/938], Loss:  0.0011\n",
      "Epoch [5/5], Step [500/938], Loss:  0.1075\n",
      "Epoch [5/5], Step [600/938], Loss:  0.0082\n",
      "Epoch [5/5], Step [700/938], Loss:  0.0330\n",
      "Epoch [5/5], Step [800/938], Loss:  0.0033\n",
      "Epoch [5/5], Step [900/938], Loss:  0.0051\n"
     ]
    }
   ],
   "source": [
    "for epoch in range(num_epochs):\n",
    "    for i, (images, labels) in enumerate(train_loader):\n",
    "        images, labels = images.to(device), labels.to(device)\n",
    "        # print (\"Dims : \", images.size()) # Size is [64, 1, 28, 28]\n",
    "        outputs = model(images)\n",
    "        loss = criterion(outputs, labels)\n",
    "        optimizer.zero_grad()\n",
    "        loss.backward()\n",
    "        optimizer.step()\n",
    "        \n",
    "        if (i+1) % 100 == 0:\n",
    "            print(f'Epoch [{epoch + 1}/{num_epochs}], Step [{i+1}/{len(train_loader)}], Loss: {loss.item(): .4f}')"
   ]
  },
  {
   "cell_type": "code",
   "execution_count": 21,
   "id": "e8d2d132a2516dfc",
   "metadata": {
    "collapsed": false,
    "ExecuteTime": {
     "end_time": "2024-01-12T10:47:35.099286790Z",
     "start_time": "2024-01-12T10:47:32.883381576Z"
    }
   },
   "outputs": [
    {
     "name": "stdout",
     "output_type": "stream",
     "text": [
      "Test accuracy:  99.25 %\n"
     ]
    }
   ],
   "source": [
    "model.eval()\n",
    "with torch.no_grad():\n",
    "    correct = 0\n",
    "    total = 0\n",
    "    \n",
    "    for images, labels in test_loader:\n",
    "        images, labels = images.to(device), labels.to(device)\n",
    "        outputs = model(images)\n",
    "        \n",
    "        _, predicted = torch.max(outputs.data, 1)\n",
    "        total += labels.size(0)\n",
    "        correct += (predicted == labels).sum().item()\n",
    "    \n",
    "    print(f'Test accuracy: {100 * correct / total: .2f} %')"
   ]
  },
  {
   "cell_type": "code",
   "execution_count": 22,
   "id": "52db9dcede593f93",
   "metadata": {
    "collapsed": false,
    "ExecuteTime": {
     "end_time": "2024-01-12T10:47:35.111046078Z",
     "start_time": "2024-01-12T10:47:35.100648430Z"
    }
   },
   "outputs": [],
   "source": [
    "sample_image, sample_label = next(iter(test_loader))\n",
    "sample_image, sample_label = sample_image.to(device), sample_label.to(device)"
   ]
  },
  {
   "cell_type": "code",
   "execution_count": 23,
   "id": "28aca2d05260bb89",
   "metadata": {
    "collapsed": false,
    "ExecuteTime": {
     "end_time": "2024-01-12T10:47:35.144611257Z",
     "start_time": "2024-01-12T10:47:35.114272991Z"
    }
   },
   "outputs": [],
   "source": [
    "class FeatureExtractor(nn.Module):\n",
    "    def __init__(self, original_model, layer_indices):\n",
    "        super(FeatureExtractor, self).__init__()\n",
    "        \n",
    "        self.features = nn.ModuleList([\n",
    "            original_model.layer1,\n",
    "            original_model.layer2,\n",
    "            original_model.layer3\n",
    "        ])\n",
    "        \n",
    "        self.layer_indices = layer_indices\n",
    "    \n",
    "    def forward(self, x):\n",
    "        activations = []\n",
    "        for i, layer in enumerate(self.features):\n",
    "            x = layer(x)\n",
    "            if i in self.layer_indices:\n",
    "                activations.append(x)\n",
    "        \n",
    "        return activations"
   ]
  },
  {
   "cell_type": "code",
   "execution_count": 24,
   "id": "ced99ea55cb3e4a6",
   "metadata": {
    "collapsed": false,
    "ExecuteTime": {
     "end_time": "2024-01-12T10:47:35.146571568Z",
     "start_time": "2024-01-12T10:47:35.123663015Z"
    }
   },
   "outputs": [],
   "source": [
    "layer_indices = [0, 1, 2]\n",
    "feature_extractor = FeatureExtractor(model, layer_indices).to(device)\n",
    "activations = feature_extractor(sample_image)"
   ]
  },
  {
   "cell_type": "code",
   "execution_count": 25,
   "id": "b5e39a04ef0cf6dd",
   "metadata": {
    "collapsed": false,
    "ExecuteTime": {
     "end_time": "2024-01-12T10:47:35.356413571Z",
     "start_time": "2024-01-12T10:47:35.135474246Z"
    }
   },
   "outputs": [
    {
     "data": {
      "text/plain": "Text(0.5, 1.0, 'Original Image')"
     },
     "execution_count": 25,
     "metadata": {},
     "output_type": "execute_result"
    },
    {
     "data": {
      "text/plain": "<Figure size 1000x1000 with 1 Axes>",
      "image/png": "[encoded data removed]"
     },
     "metadata": {},
     "output_type": "display_data"
    }
   ],
   "source": [
    "plt.figure(figsize=(10, 10))\n",
    "plt.subplot(1, len(activations) + 1, 1)\n",
    "plt.imshow(sample_image[0, 0].cpu(), cmap='viridis')\n",
    "plt.title(\"Original Image\")"
   ]
  },
  {
   "cell_type": "code",
   "execution_count": 26,
   "id": "5b34b49edd4dca28",
   "metadata": {
    "collapsed": false,
    "ExecuteTime": {
     "end_time": "2024-01-12T10:47:35.543335675Z",
     "start_time": "2024-01-12T10:47:35.344061242Z"
    }
   },
   "outputs": [
    {
     "data": {
      "text/plain": "<Figure size 640x480 with 3 Axes>",
      "image/png": "[encoded data removed]"
     },
     "metadata": {},
     "output_type": "display_data"
    }
   ],
   "source": [
    "for i, activation in enumerate(activations):\n",
    "    plt.subplot(1, len(activations) + 1, i+2)\n",
    "    plt.imshow(activation[0, 0].cpu().detach(), cmap='viridis')\n",
    "    plt.title(f'Layer {layer_indices[i]}')\n",
    "\n",
    "plt.show()"
   ]
  },
  {
   "cell_type": "code",
   "execution_count": 26,
   "id": "49a51902f55f22e9",
   "metadata": {
    "collapsed": false,
    "ExecuteTime": {
     "end_time": "2024-01-12T10:47:35.544605568Z",
     "start_time": "2024-01-12T10:47:35.540821959Z"
    }
   },
   "outputs": [],
   "source": []
  }
 ],
 "metadata": {
  "kernelspec": {
   "display_name": "Python 3 (ipykernel)",
   "language": "python",
   "name": "python3"
  },
  "language_info": {
   "codemirror_mode": {
    "name": "ipython",
    "version": 3
   },
   "file_extension": ".py",
   "mimetype": "text/x-python",
   "name": "python",
   "nbconvert_exporter": "python",
   "pygments_lexer": "ipython3",
   "version": "3.11.7"
  }
 },
 "nbformat": 4,
 "nbformat_minor": 5
}

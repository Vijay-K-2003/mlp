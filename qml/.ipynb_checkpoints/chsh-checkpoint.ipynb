{
 "cells": [
  {
   "cell_type": "code",
   "execution_count": 1,
   "id": "initial_id",
   "metadata": {
    "collapsed": true,
    "ExecuteTime": {
     "end_time": "2024-01-11T18:59:44.603008263Z",
     "start_time": "2024-01-11T18:59:44.274187619Z"
    }
   },
   "outputs": [],
   "source": [
    "from qiskit import QuantumCircuit\n",
    "from qiskit_aer.primitives import Sampler\n",
    "from numpy import pi\n",
    "from numpy.random import randint"
   ]
  },
  {
   "cell_type": "code",
   "outputs": [],
   "source": [
    "def chsh_game(strategy):\n",
    "    \"\"\"Plays the CHSH game\n",
    "    Args:\n",
    "        strategy (callable): A function that takes two bits (as `int`s) and\n",
    "            returns two bits (also as `int`s). The strategy must follow the\n",
    "            rules of the CHSH game.\n",
    "    Returns:\n",
    "        int: 1 for a win, 0 for a loss.\n",
    "    \"\"\"\n",
    "    # Referee chooses x and y randomly\n",
    "    x, y = randint(0, 2), randint(0, 2)\n",
    "\n",
    "    # Use strategy to choose a and b\n",
    "    a, b = strategy(x, y)\n",
    "\n",
    "    # Referee decides if Alice and Bob win or lose\n",
    "    if (a != b) == (x & y):\n",
    "        return 1  # Win\n",
    "    return 0  # Lose"
   ],
   "metadata": {
    "collapsed": false,
    "ExecuteTime": {
     "end_time": "2024-01-11T18:59:44.608070782Z",
     "start_time": "2024-01-11T18:59:44.605829843Z"
    }
   },
   "id": "66e7b5b2247e5213",
   "execution_count": 2
  },
  {
   "cell_type": "code",
   "outputs": [],
   "source": [
    "def chsh_circuit(x, y):\n",
    "    \"\"\"Creates a `QuantumCircuit` that implements the best CHSH strategy.\n",
    "    Args:\n",
    "        x (int): Alice's bit (must be 0 or 1)\n",
    "        y (int): Bob's bit (must be 0 or 1)\n",
    "    Returns:\n",
    "        QuantumCircuit: Circuit that, when run, returns Alice and Bob's\n",
    "            answer bits.\n",
    "    \"\"\"\n",
    "    qc = QuantumCircuit(2, 2)\n",
    "    qc.h(0)\n",
    "    qc.cx(0, 1)\n",
    "    qc.barrier()\n",
    "\n",
    "    # Alice\n",
    "    if x == 0:\n",
    "        qc.ry(0, 0)\n",
    "    else:\n",
    "        qc.ry(-pi / 2, 0)\n",
    "    qc.measure(0, 0)\n",
    "\n",
    "    # Bob\n",
    "    if y == 0:\n",
    "        qc.ry(-pi / 4, 1)\n",
    "    else:\n",
    "        qc.ry(pi / 4, 1)\n",
    "    qc.measure(1, 1)\n",
    "\n",
    "    return qc"
   ],
   "metadata": {
    "collapsed": false,
    "ExecuteTime": {
     "end_time": "2024-01-11T18:59:44.613883935Z",
     "start_time": "2024-01-11T18:59:44.611448490Z"
    }
   },
   "id": "d914d2dddb0cccf",
   "execution_count": 3
  },
  {
   "cell_type": "code",
   "outputs": [
    {
     "name": "stdout",
     "output_type": "stream",
     "text": [
      "(x,y) = (0,0)\n"
     ]
    },
    {
     "data": {
      "text/plain": "     ┌───┐      ░  ┌───────┐  ┌─┐   \nq_0: ┤ H ├──■───░──┤ Ry(0) ├──┤M├───\n     └───┘┌─┴─┐ ░ ┌┴───────┴─┐└╥┘┌─┐\nq_1: ─────┤ X ├─░─┤ Ry(-π/4) ├─╫─┤M├\n          └───┘ ░ └──────────┘ ║ └╥┘\nc: 2/══════════════════════════╩══╩═\n                               0  1 ",
      "text/html": "<pre style=\"word-wrap: normal;white-space: pre;background: #fff0;line-height: 1.1;font-family: &quot;Courier New&quot;,Courier,monospace\">     ┌───┐      ░  ┌───────┐  ┌─┐   \nq_0: ┤ H ├──■───░──┤ Ry(0) ├──┤M├───\n     └───┘┌─┴─┐ ░ ┌┴───────┴─┐└╥┘┌─┐\nq_1: ─────┤ X ├─░─┤ Ry(-π/4) ├─╫─┤M├\n          └───┘ ░ └──────────┘ ║ └╥┘\nc: 2/══════════════════════════╩══╩═\n                               0  1 </pre>"
     },
     "metadata": {},
     "output_type": "display_data"
    },
    {
     "name": "stdout",
     "output_type": "stream",
     "text": [
      "(x,y) = (0,1)\n"
     ]
    },
    {
     "data": {
      "text/plain": "     ┌───┐      ░  ┌───────┐ ┌─┐   \nq_0: ┤ H ├──■───░──┤ Ry(0) ├─┤M├───\n     └───┘┌─┴─┐ ░ ┌┴───────┴┐└╥┘┌─┐\nq_1: ─────┤ X ├─░─┤ Ry(π/4) ├─╫─┤M├\n          └───┘ ░ └─────────┘ ║ └╥┘\nc: 2/═════════════════════════╩══╩═\n                              0  1 ",
      "text/html": "<pre style=\"word-wrap: normal;white-space: pre;background: #fff0;line-height: 1.1;font-family: &quot;Courier New&quot;,Courier,monospace\">     ┌───┐      ░  ┌───────┐ ┌─┐   \nq_0: ┤ H ├──■───░──┤ Ry(0) ├─┤M├───\n     └───┘┌─┴─┐ ░ ┌┴───────┴┐└╥┘┌─┐\nq_1: ─────┤ X ├─░─┤ Ry(π/4) ├─╫─┤M├\n          └───┘ ░ └─────────┘ ║ └╥┘\nc: 2/═════════════════════════╩══╩═\n                              0  1 </pre>"
     },
     "metadata": {},
     "output_type": "display_data"
    },
    {
     "name": "stdout",
     "output_type": "stream",
     "text": [
      "(x,y) = (1,0)\n"
     ]
    },
    {
     "data": {
      "text/plain": "     ┌───┐      ░ ┌──────────┐┌─┐   \nq_0: ┤ H ├──■───░─┤ Ry(-π/2) ├┤M├───\n     └───┘┌─┴─┐ ░ ├──────────┤└╥┘┌─┐\nq_1: ─────┤ X ├─░─┤ Ry(-π/4) ├─╫─┤M├\n          └───┘ ░ └──────────┘ ║ └╥┘\nc: 2/══════════════════════════╩══╩═\n                               0  1 ",
      "text/html": "<pre style=\"word-wrap: normal;white-space: pre;background: #fff0;line-height: 1.1;font-family: &quot;Courier New&quot;,Courier,monospace\">     ┌───┐      ░ ┌──────────┐┌─┐   \nq_0: ┤ H ├──■───░─┤ Ry(-π/2) ├┤M├───\n     └───┘┌─┴─┐ ░ ├──────────┤└╥┘┌─┐\nq_1: ─────┤ X ├─░─┤ Ry(-π/4) ├─╫─┤M├\n          └───┘ ░ └──────────┘ ║ └╥┘\nc: 2/══════════════════════════╩══╩═\n                               0  1 </pre>"
     },
     "metadata": {},
     "output_type": "display_data"
    },
    {
     "name": "stdout",
     "output_type": "stream",
     "text": [
      "(x,y) = (1,1)\n"
     ]
    },
    {
     "data": {
      "text/plain": "     ┌───┐      ░ ┌──────────┐┌─┐   \nq_0: ┤ H ├──■───░─┤ Ry(-π/2) ├┤M├───\n     └───┘┌─┴─┐ ░ ├─────────┬┘└╥┘┌─┐\nq_1: ─────┤ X ├─░─┤ Ry(π/4) ├──╫─┤M├\n          └───┘ ░ └─────────┘  ║ └╥┘\nc: 2/══════════════════════════╩══╩═\n                               0  1 ",
      "text/html": "<pre style=\"word-wrap: normal;white-space: pre;background: #fff0;line-height: 1.1;font-family: &quot;Courier New&quot;,Courier,monospace\">     ┌───┐      ░ ┌──────────┐┌─┐   \nq_0: ┤ H ├──■───░─┤ Ry(-π/2) ├┤M├───\n     └───┘┌─┴─┐ ░ ├─────────┬┘└╥┘┌─┐\nq_1: ─────┤ X ├─░─┤ Ry(π/4) ├──╫─┤M├\n          └───┘ ░ └─────────┘  ║ └╥┘\nc: 2/══════════════════════════╩══╩═\n                               0  1 </pre>"
     },
     "metadata": {},
     "output_type": "display_data"
    }
   ],
   "source": [
    "print(\"(x,y) = (0,0)\")\n",
    "display(chsh_circuit(0, 0).draw())\n",
    "\n",
    "print(\"(x,y) = (0,1)\")\n",
    "display(chsh_circuit(0, 1).draw())\n",
    "\n",
    "print(\"(x,y) = (1,0)\")\n",
    "display(chsh_circuit(1, 0).draw())\n",
    "\n",
    "print(\"(x,y) = (1,1)\")\n",
    "display(chsh_circuit(1, 1).draw())"
   ],
   "metadata": {
    "collapsed": false,
    "ExecuteTime": {
     "end_time": "2024-01-11T18:59:44.693176420Z",
     "start_time": "2024-01-11T18:59:44.617808061Z"
    }
   },
   "id": "71f8f2141388d5a",
   "execution_count": 4
  },
  {
   "cell_type": "code",
   "outputs": [],
   "source": [
    "sampler = Sampler()\n",
    "\n",
    "def quantum_strategy(x, y):\n",
    "    \"\"\"Carry out the best strategy for the CHSH game.\n",
    "    Args:\n",
    "        x (int): Alice's bit (must be 0 or 1)\n",
    "        y (int): Bob's bit (must be 0 or 1)\n",
    "    Returns:\n",
    "        (int, int): Alice and Bob's answer bits (respectively)\n",
    "    \"\"\"\n",
    "    # `shots=1` runs the circuit once\n",
    "    result = sampler.run(chsh_circuit(x, y), shots=2).result()\n",
    "    statistics = result.quasi_dists[0].binary_probabilities()\n",
    "    bits = list(statistics.keys())[0]\n",
    "    a, b = bits[0], bits[1]\n",
    "    return a, b"
   ],
   "metadata": {
    "collapsed": false,
    "ExecuteTime": {
     "end_time": "2024-01-11T18:59:44.693981493Z",
     "start_time": "2024-01-11T18:59:44.690565560Z"
    }
   },
   "id": "96c24dec0b0e0d1e",
   "execution_count": 5
  },
  {
   "cell_type": "code",
   "outputs": [
    {
     "name": "stdout",
     "output_type": "stream",
     "text": [
      "Fraction of games won: 0.831\n"
     ]
    }
   ],
   "source": [
    "NUM_GAMES = 1000\n",
    "TOTAL_SCORE = 0\n",
    "\n",
    "for _ in range(NUM_GAMES):\n",
    "    TOTAL_SCORE += chsh_game(quantum_strategy)\n",
    "\n",
    "print(\"Fraction of games won:\", TOTAL_SCORE / NUM_GAMES)"
   ],
   "metadata": {
    "collapsed": false,
    "ExecuteTime": {
     "end_time": "2024-01-11T18:59:46.618743823Z",
     "start_time": "2024-01-11T18:59:44.690841106Z"
    }
   },
   "id": "98174df864214d37",
   "execution_count": 6
  },
  {
   "cell_type": "code",
   "outputs": [],
   "source": [
    "def classical_strategy(x, y):\n",
    "    \"\"\"An optimal classical strategy for the CHSH game\n",
    "    Args:\n",
    "        x (int): Alice's bit (must be 0 or 1)\n",
    "        y (int): Bob's bit (must be 0 or 1)\n",
    "    Returns:\n",
    "        (int, int): Alice and Bob's answer bits (respectively)\n",
    "    \"\"\"\n",
    "    # Alice's answer\n",
    "    if x == 0:\n",
    "        a = 0\n",
    "    elif x == 1:\n",
    "        a = 1\n",
    "\n",
    "    # Bob's answer\n",
    "    if y == 0:\n",
    "        b = 1\n",
    "    elif y == 1:\n",
    "        b = 0\n",
    "\n",
    "    return a, b"
   ],
   "metadata": {
    "collapsed": false,
    "ExecuteTime": {
     "end_time": "2024-01-11T18:59:46.623364210Z",
     "start_time": "2024-01-11T18:59:46.618902730Z"
    }
   },
   "id": "4eed24c785bf675c",
   "execution_count": 7
  },
  {
   "cell_type": "code",
   "outputs": [
    {
     "name": "stdout",
     "output_type": "stream",
     "text": [
      "Fraction of games won: 0.767\n"
     ]
    }
   ],
   "source": [
    "NUM_GAMES = 1000\n",
    "TOTAL_SCORE = 0\n",
    "\n",
    "for _ in range(NUM_GAMES):\n",
    "    TOTAL_SCORE += chsh_game(classical_strategy)\n",
    "\n",
    "print(\"Fraction of games won:\", TOTAL_SCORE / NUM_GAMES)"
   ],
   "metadata": {
    "collapsed": false,
    "ExecuteTime": {
     "end_time": "2024-01-11T18:59:46.647188082Z",
     "start_time": "2024-01-11T18:59:46.622532493Z"
    }
   },
   "id": "238cd9a3f6885df2",
   "execution_count": 8
  },
  {
   "cell_type": "markdown",
   "source": [
    "## It is expected that the Quantum Strategy has wins 85% times and the classical strategy will not be better than 75% wins."
   ],
   "metadata": {
    "collapsed": false
   },
   "id": "2b10a57e7a84eadc"
  }
 ],
 "metadata": {
  "kernelspec": {
   "display_name": "Python 3",
   "language": "python",
   "name": "python3"
  },
  "language_info": {
   "codemirror_mode": {
    "name": "ipython",
    "version": 2
   },
   "file_extension": ".py",
   "mimetype": "text/x-python",
   "name": "python",
   "nbconvert_exporter": "python",
   "pygments_lexer": "ipython2",
   "version": "2.7.6"
  }
 },
 "nbformat": 4,
 "nbformat_minor": 5
}

{
 "cells": [
  {
   "cell_type": "code",
   "execution_count": 1,
   "id": "initial_id",
   "metadata": {
    "collapsed": true,
    "jupyter": {
     "outputs_hidden": true
    },
    "ExecuteTime": {
     "end_time": "2024-01-12T10:44:43.113393329Z",
     "start_time": "2024-01-12T10:44:42.618177896Z"
    }
   },
   "outputs": [],
   "source": [
    "from qiskit import QuantumCircuit, QuantumRegister, ClassicalRegister\n",
    "from qiskit_aer.primitives import Sampler\n",
    "from qiskit_aer import AerSimulator\n",
    "from qiskit.visualization import plot_histogram"
   ]
  },
  {
   "cell_type": "markdown",
   "id": "5e494a752abe2a89",
   "metadata": {
    "collapsed": false
   },
   "source": [
    "## SuperDense Coding\n",
    "\n",
    "Alice has 2 classical bits that she wishes to transmit to Bob.\n",
    "We assume that:\n",
    "Alice is able to send a single qubit to Bob.\n",
    "Alice and Bob share an e-bit\n",
    "\n",
    "The Holevo's Theorem implies that 2 classical bits of communication cannot be reliably transmitted by a single qubit alone.\n",
    "So, according to Holevo's Theorem, without the e-bit, it would be impossible to 2 classical bits using 1 qubit."
   ]
  },
  {
   "cell_type": "code",
   "execution_count": 2,
   "id": "2e63a911fa962f1b",
   "metadata": {
    "collapsed": false,
    "ExecuteTime": {
     "end_time": "2024-01-12T10:44:43.154126117Z",
     "start_time": "2024-01-12T10:44:43.153053813Z"
    }
   },
   "outputs": [],
   "source": [
    "c = \"1\"\n",
    "d = \"0\""
   ]
  },
  {
   "cell_type": "markdown",
   "id": "b568d1ea746f3f7f",
   "metadata": {
    "collapsed": false
   },
   "source": [
    "## Defining the protocol\n",
    "Alice has 2 classical bits and 1 shared e-bit whereas Bob has 1 shared e-bit.\n",
    "\n",
    "1. Alice performs the Z operation on e-bit A if b is 1.\n",
    "2. Alice performs the X operation on e-bit A if a is 1.\n",
    "3. Single e-bit is communicated.\n",
    "4. Bob performs a controlled NOT operation on the e-bit B where the control is the communicated e-bit A.\n",
    "5. Bob performs a Hadamard operation on A and measures it as b.\n",
    "6. Bob measures the e-bit B to get a."
   ]
  },
  {
   "cell_type": "code",
   "execution_count": 3,
   "id": "e438035750d4e4a0",
   "metadata": {
    "collapsed": false,
    "ExecuteTime": {
     "end_time": "2024-01-12T10:44:43.156890467Z",
     "start_time": "2024-01-12T10:44:43.153889807Z"
    }
   },
   "outputs": [
    {
     "name": "stdout",
     "output_type": "stream",
     "text": [
      "        ┌───┐      ░ ┌───┐ ░      ┌───┐ ░ ┌─┐   \n",
      "   q_0: ┤ H ├──■───░─┤ X ├─░───■──┤ H ├─░─┤M├───\n",
      "        └───┘┌─┴─┐ ░ └───┘ ░ ┌─┴─┐└───┘ ░ └╥┘┌─┐\n",
      "   q_1: ─────┤ X ├─░───────░─┤ X ├──────░──╫─┤M├\n",
      "             └───┘ ░       ░ └───┘      ░  ║ └╥┘\n",
      "meas: 2/═══════════════════════════════════╩══╩═\n",
      "                                           0  1 \n"
     ]
    }
   ],
   "source": [
    "protocol = QuantumCircuit(2)\n",
    "\n",
    "# Prepare ebit used for superdense coding\n",
    "protocol.h(0)\n",
    "protocol.cx(0, 1)\n",
    "protocol.barrier()\n",
    "\n",
    "# Alice's operations\n",
    "if d == \"1\":\n",
    "    protocol.z(0)\n",
    "if c == \"1\":\n",
    "    protocol.x(0)\n",
    "protocol.barrier()\n",
    "\n",
    "# Bob's actions\n",
    "protocol.cx(0, 1)\n",
    "protocol.h(0)\n",
    "protocol.measure_all()\n",
    "\n",
    "print(protocol.draw())"
   ]
  },
  {
   "cell_type": "code",
   "execution_count": 4,
   "id": "c86cd2f93b4f55af",
   "metadata": {
    "collapsed": false,
    "ExecuteTime": {
     "end_time": "2024-01-12T10:44:44.141210217Z",
     "start_time": "2024-01-12T10:44:43.155173114Z"
    }
   },
   "outputs": [
    {
     "name": "stdout",
     "output_type": "stream",
     "text": [
      "Measured 10 with frequency 1.0\n"
     ]
    },
    {
     "data": {
      "text/plain": "<Figure size 700x500 with 1 Axes>",
      "image/png": "[encoded data removed]"
     },
     "execution_count": 4,
     "metadata": {},
     "output_type": "execute_result"
    }
   ],
   "source": [
    "result = Sampler().run(protocol).result()\n",
    "statistics = result.quasi_dists[0].binary_probabilities()\n",
    "\n",
    "for outcome, frequency in statistics.items():\n",
    "    print(f\"Measured {outcome} with frequency {frequency}\")\n",
    "\n",
    "plot_histogram(statistics)"
   ]
  },
  {
   "cell_type": "code",
   "execution_count": 5,
   "id": "f91d681b0df187f5",
   "metadata": {
    "collapsed": false,
    "ExecuteTime": {
     "end_time": "2024-01-12T10:44:44.160015768Z",
     "start_time": "2024-01-12T10:44:44.151251992Z"
    }
   },
   "outputs": [
    {
     "data": {
      "text/plain": "                       ░ ┌───┐┌─┐┌───┐┌─┐ ░                                »\nrandomizer: ───────────░─┤ H ├┤M├┤ H ├┤M├─░────────────────────────────────»\n            ┌───┐      ░ └───┘└╥┘└───┘└╥┘ ░ ┌────── ┌───┐ ───────┐ ┌────── »\n         A: ┤ H ├──■───░───────╫───────╫──░─┤ If-0  ┤ Z ├  End-0 ├─┤ If-0  »\n            └───┘┌─┴─┐ ░       ║       ║  ░ └──╥─── └───┘ ───────┘ └──╥─── »\n         B: ─────┤ X ├─░───────╫───────╫──░────╫──────────────────────╫────»\n                 └───┘ ░       ║       ║  ░ ┌──╨──┐                   ║    »\n Alice d: 1/═══════════════════╬═══════╩════╡ 0x1 ╞═══════════════════╬════»\n                               ║       0    └─────┘                ┌──╨──┐ »\n Alice c: 1/═══════════════════╩═══════════════════════════════════╡ 0x1 ╞═»\n                               0                                   └─────┘ »\n   Bob d: 1/═══════════════════════════════════════════════════════════════»\n                                                                           »\n   Bob c: 1/═══════════════════════════════════════════════════════════════»\n                                                                           »\n«                            ░            ░       \n«randomizer: ────────────────░────────────░───────\n«            ┌───┐ ───────┐  ░      ┌───┐ ░ ┌─┐   \n«         A: ┤ X ├  End-0 ├──░───■──┤ H ├─░─┤M├───\n«            └───┘ ───────┘  ░ ┌─┴─┐└───┘ ░ └╥┘┌─┐\n«         B: ────────────────░─┤ X ├──────░──╫─┤M├\n«                            ░ └───┘      ░  ║ └╥┘\n« Alice d: 1/════════════════════════════════╬══╬═\n«                                            ║  ║ \n« Alice c: 1/════════════════════════════════╬══╬═\n«                                            ║  ║ \n«   Bob d: 1/════════════════════════════════╩══╬═\n«                                            0  ║ \n«   Bob c: 1/═══════════════════════════════════╩═\n«                                               0 ",
      "text/html": "<pre style=\"word-wrap: normal;white-space: pre;background: #fff0;line-height: 1.1;font-family: &quot;Courier New&quot;,Courier,monospace\">                       ░ ┌───┐┌─┐┌───┐┌─┐ ░                                »\nrandomizer: ───────────░─┤ H ├┤M├┤ H ├┤M├─░────────────────────────────────»\n            ┌───┐      ░ └───┘└╥┘└───┘└╥┘ ░ ┌────── ┌───┐ ───────┐ ┌────── »\n         A: ┤ H ├──■───░───────╫───────╫──░─┤ If-0  ┤ Z ├  End-0 ├─┤ If-0  »\n            └───┘┌─┴─┐ ░       ║       ║  ░ └──╥─── └───┘ ───────┘ └──╥─── »\n         B: ─────┤ X ├─░───────╫───────╫──░────╫──────────────────────╫────»\n                 └───┘ ░       ║       ║  ░ ┌──╨──┐                   ║    »\n Alice d: 1/═══════════════════╬═══════╩════╡ 0x1 ╞═══════════════════╬════»\n                               ║       0    └─────┘                ┌──╨──┐ »\n Alice c: 1/═══════════════════╩═══════════════════════════════════╡ 0x1 ╞═»\n                               0                                   └─────┘ »\n   Bob d: 1/═══════════════════════════════════════════════════════════════»\n                                                                           »\n   Bob c: 1/═══════════════════════════════════════════════════════════════»\n                                                                           »\n«                            ░            ░       \n«randomizer: ────────────────░────────────░───────\n«            ┌───┐ ───────┐  ░      ┌───┐ ░ ┌─┐   \n«         A: ┤ X ├  End-0 ├──░───■──┤ H ├─░─┤M├───\n«            └───┘ ───────┘  ░ ┌─┴─┐└───┘ ░ └╥┘┌─┐\n«         B: ────────────────░─┤ X ├──────░──╫─┤M├\n«                            ░ └───┘      ░  ║ └╥┘\n« Alice d: 1/════════════════════════════════╬══╬═\n«                                            ║  ║ \n« Alice c: 1/════════════════════════════════╬══╬═\n«                                            ║  ║ \n«   Bob d: 1/════════════════════════════════╩══╬═\n«                                            0  ║ \n«   Bob c: 1/═══════════════════════════════════╩═\n«                                               0 </pre>"
     },
     "metadata": {},
     "output_type": "display_data"
    }
   ],
   "source": [
    "# Randomization using additional qubit\n",
    "rbg = QuantumRegister(1, \"randomizer\")\n",
    "ebit0 = QuantumRegister(1, \"A\")\n",
    "ebit1 = QuantumRegister(1, \"B\")\n",
    "\n",
    "Alice_c = ClassicalRegister(1, \"Alice c\")\n",
    "Alice_d = ClassicalRegister(1, \"Alice d\")\n",
    "\n",
    "test = QuantumCircuit(rbg, ebit0, ebit1, Alice_d, Alice_c)\n",
    "\n",
    "# Initialize the ebit\n",
    "test.h(ebit0)\n",
    "test.cx(ebit0, ebit1)\n",
    "test.barrier()\n",
    "\n",
    "# Use the 'randomizer' qubit twice to generate Alice's bits c and d.\n",
    "test.h(rbg)\n",
    "test.measure(rbg, Alice_c)\n",
    "test.h(rbg)\n",
    "test.measure(rbg, Alice_d)\n",
    "test.barrier()\n",
    "\n",
    "# Now the protocol runs, starting with Alice's actions, which depend\n",
    "# on her bits.\n",
    "with test.if_test((Alice_d, 1), label=\"Z\"):\n",
    "    test.z(ebit0)\n",
    "with test.if_test((Alice_c, 1), label=\"X\"):\n",
    "    test.x(ebit0)\n",
    "test.barrier()\n",
    "\n",
    "# Bob's actions\n",
    "test.cx(ebit0, ebit1)\n",
    "test.h(ebit0)\n",
    "test.barrier()\n",
    "\n",
    "Bob_c = ClassicalRegister(1, \"Bob c\")\n",
    "Bob_d = ClassicalRegister(1, \"Bob d\")\n",
    "test.add_register(Bob_d)\n",
    "test.add_register(Bob_c)\n",
    "test.measure(ebit0, Bob_d)\n",
    "test.measure(ebit1, Bob_c)\n",
    "\n",
    "display(test.draw())"
   ]
  },
  {
   "cell_type": "code",
   "execution_count": 6,
   "id": "e2d2400eb18eeb2a",
   "metadata": {
    "collapsed": false,
    "ExecuteTime": {
     "end_time": "2024-01-12T10:44:44.344488774Z",
     "start_time": "2024-01-12T10:44:44.154891071Z"
    }
   },
   "outputs": [
    {
     "data": {
      "text/plain": "<Figure size 700x500 with 1 Axes>",
      "image/png": "[encoded data removed]"
     },
     "execution_count": 6,
     "metadata": {},
     "output_type": "execute_result"
    }
   ],
   "source": [
    "result = AerSimulator().run(test).result()\n",
    "statistics = result.get_counts()\n",
    "plot_histogram(statistics)"
   ]
  },
  {
   "cell_type": "code",
   "execution_count": 6,
   "id": "bbb8dbac94062ef6",
   "metadata": {
    "collapsed": false,
    "ExecuteTime": {
     "end_time": "2024-01-12T10:44:44.345274970Z",
     "start_time": "2024-01-12T10:44:44.321043035Z"
    }
   },
   "outputs": [],
   "source": []
  }
 ],
 "metadata": {
  "kernelspec": {
   "display_name": "Python 3 (ipykernel)",
   "language": "python",
   "name": "python3"
  },
  "language_info": {
   "codemirror_mode": {
    "name": "ipython",
    "version": 3
   },
   "file_extension": ".py",
   "mimetype": "text/x-python",
   "name": "python",
   "nbconvert_exporter": "python",
   "pygments_lexer": "ipython3",
   "version": "3.11.7"
  }
 },
 "nbformat": 4,
 "nbformat_minor": 5
}

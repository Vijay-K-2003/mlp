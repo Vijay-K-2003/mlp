{
 "cells": [
  {
   "cell_type": "code",
   "execution_count": 1,
   "id": "initial_id",
   "metadata": {
    "ExecuteTime": {
     "end_time": "2024-01-11T18:57:01.725500715Z",
     "start_time": "2024-01-11T18:57:01.282431291Z"
    },
    "collapsed": true,
    "jupyter": {
     "outputs_hidden": true
    }
   },
   "outputs": [],
   "source": [
    "from qiskit import QuantumCircuit, QuantumRegister, ClassicalRegister\n",
    "from qiskit_aer import AerSimulator\n",
    "from qiskit.visualization import plot_histogram\n",
    "from qiskit.result import marginal_distribution\n",
    "from qiskit.circuit.library import UGate\n",
    "from numpy import pi, random"
   ]
  },
  {
   "cell_type": "markdown",
   "id": "29fa8b2bbbdc8fdd",
   "metadata": {
    "collapsed": false,
    "jupyter": {
     "outputs_hidden": false
    }
   },
   "source": [
    "## Defining Alice and Bob Requirements\n",
    "\n",
    "Alice has to communicate a qubit Q and has an e-bit shared with Bob. It is assumed that Alice and Bob can only send classical information. Alice and Bob share an e-bit.\n",
    "\n",
    "### Assumptions :\n",
    "1. State of Q is NOT known to Alice and Bob\n",
    "2. Correlation between Q and other systems must be preserved by transmission\n",
    "3. According to the \"No cloning theorem\", if Bob receives the transmission then Alice must no longer have the qubit Q in its original state."
   ]
  },
  {
   "cell_type": "code",
   "execution_count": 2,
   "id": "fa78cb75c22fe5d1",
   "metadata": {
    "ExecuteTime": {
     "end_time": "2024-01-11T18:57:01.729890589Z",
     "start_time": "2024-01-11T18:57:01.726586190Z"
    },
    "collapsed": false,
    "jupyter": {
     "outputs_hidden": false
    }
   },
   "outputs": [],
   "source": [
    "qubit = QuantumRegister(1, \"Q\")         # Q\n",
    "ebit0 = QuantumRegister(1, \"A\")         # A\n",
    "ebit1 = QuantumRegister(1, \"B\")         # B\n",
    "a = ClassicalRegister(1, \"a\")           # a\n",
    "b = ClassicalRegister(1, \"b\")           # b"
   ]
  },
  {
   "cell_type": "markdown",
   "id": "42368e1403d8611c",
   "metadata": {
    "collapsed": false,
    "jupyter": {
     "outputs_hidden": false
    }
   },
   "source": [
    "## Defining the Protocol\n",
    "\n",
    "1. Alice performs controlled-NOT operation where Q is the control and A is the target.\n",
    "2. Alice performs a Hadamard operation on Q.\n",
    "3. Alice measures A and Q, gets classical bits a and b respectively then sends a and b to Bob.\n",
    "4. Bob performs X operation (NOT gate) if a = 1, and if b = 1 then Bob performs operation Z (phase flip operation) on B.\n",
    "\n",
    "Therefore, \n",
    "    if ab = 00 then `1`\n",
    "    if ab = 01 then operation Z\n",
    "    if ab = 10 then operation X\n",
    "    if ab = 11 then operation ZX"
   ]
  },
  {
   "cell_type": "code",
   "execution_count": 3,
   "id": "9251e2bbff0d6d75",
   "metadata": {
    "ExecuteTime": {
     "end_time": "2024-01-11T18:57:01.740425458Z",
     "start_time": "2024-01-11T18:57:01.731569748Z"
    },
    "collapsed": false,
    "jupyter": {
     "outputs_hidden": false
    }
   },
   "outputs": [
    {
     "name": "stdout",
     "output_type": "stream",
     "text": [
      "                ░      ┌───┐ ░ ┌─┐    ░                                     »\n",
      "  Q: ───────────░───■──┤ H ├─░─┤M├────░─────────────────────────────────────»\n",
      "     ┌───┐      ░ ┌─┴─┐└───┘ ░ └╥┘┌─┐ ░                                     »\n",
      "  A: ┤ H ├──■───░─┤ X ├──────░──╫─┤M├─░─────────────────────────────────────»\n",
      "     └───┘┌─┴─┐ ░ └───┘      ░  ║ └╥┘ ░ ┌────── ┌───┐ ───────┐ ┌────── ┌───┐»\n",
      "  B: ─────┤ X ├─░────────────░──╫──╫──░─┤ If-0  ┤ X ├  End-0 ├─┤ If-0  ┤ Z ├»\n",
      "          └───┘ ░            ░  ║  ║  ░ └──╥─── └───┘ ───────┘ └──╥─── └───┘»\n",
      "                                ║  ║    ┌──╨──┐                   ║         »\n",
      "a: 1/═══════════════════════════╬══╩════╡ 0x1 ╞═══════════════════╬═════════»\n",
      "                                ║  0    └─────┘                ┌──╨──┐      »\n",
      "b: 1/═══════════════════════════╩══════════════════════════════╡ 0x1 ╞══════»\n",
      "                                0                              └─────┘      »\n",
      "«               \n",
      "«  Q: ──────────\n",
      "«               \n",
      "«  A: ──────────\n",
      "«      ───────┐ \n",
      "«  B:   End-0 ├─\n",
      "«      ───────┘ \n",
      "«a: 1/══════════\n",
      "«               \n",
      "«b: 1/══════════\n",
      "«               \n"
     ]
    }
   ],
   "source": [
    "protocol = QuantumCircuit(qubit, ebit0, ebit1, a, b)\n",
    "\n",
    "protocol.h(ebit0)\n",
    "protocol.cx(ebit0, ebit1)\n",
    "protocol.barrier()\n",
    "\n",
    "# Alice's operations\n",
    "protocol.cx(qubit, ebit0)       # Controlled NOT where control is Q (qubit) and target is A (ebit0)\n",
    "protocol.h(qubit)               # Hadamard gate on Q\n",
    "protocol.barrier()\n",
    "\n",
    "# Now measure ebit0, store in a and measure qubit, store in b and send to B\n",
    "protocol.measure(qubit, b)\n",
    "protocol.measure(ebit0, a)\n",
    "protocol.barrier()\n",
    "\n",
    "# Bob's actions based on classical bits\n",
    "with protocol.if_test((a, 1)):\n",
    "    protocol.x(ebit1)           # if a is 1 then operation X on ebit1\n",
    "with protocol.if_test((b, 1)):\n",
    "    protocol.z(ebit1)           # if b is 1 then operation Z on ebit1\n",
    "    \n",
    "print(protocol.draw())"
   ]
  },
  {
   "cell_type": "code",
   "execution_count": 4,
   "id": "eaaea884d43b916d",
   "metadata": {
    "ExecuteTime": {
     "end_time": "2024-01-11T18:57:01.743372157Z",
     "start_time": "2024-01-11T18:57:01.740607347Z"
    },
    "collapsed": false,
    "jupyter": {
     "outputs_hidden": false
    }
   },
   "outputs": [
    {
     "name": "stdout",
     "output_type": "stream",
     "text": [
      "[[ 0.40990517+0.j         -0.64976358-0.64014454j]\n",
      " [ 0.13452095-0.90215401j  0.3275958 -0.24638028j]]\n"
     ]
    }
   ],
   "source": [
    "# Randomly generated single qubit to check if protocol is successful\n",
    "random_gate = UGate(\n",
    "    theta=random.random() * 2 * pi,\n",
    "    phi=random.random() * 2 * pi,\n",
    "    lam=random.random() * 2 * pi,\n",
    ")\n",
    "print(random_gate.to_matrix())"
   ]
  },
  {
   "cell_type": "code",
   "execution_count": 5,
   "id": "8d4fe6920c3ec134",
   "metadata": {
    "ExecuteTime": {
     "end_time": "2024-01-11T18:57:01.798245496Z",
     "start_time": "2024-01-11T18:57:01.749646911Z"
    },
    "collapsed": false,
    "jupyter": {
     "outputs_hidden": false
    }
   },
   "outputs": [
    {
     "name": "stdout",
     "output_type": "stream",
     "text": [
      "          ┌──────────────────────────┐ ░            ░      ┌───┐ ░ ┌─┐    ░ »\n",
      "       Q: ┤ U(2.2969,4.8604,0.77794) ├─░────────────░───■──┤ H ├─░─┤M├────░─»\n",
      "          └──────────────────────────┘ ░ ┌───┐      ░ ┌─┴─┐└───┘ ░ └╥┘┌─┐ ░ »\n",
      "       A: ─────────────────────────────░─┤ H ├──■───░─┤ X ├──────░──╫─┤M├─░─»\n",
      "                                       ░ └───┘┌─┴─┐ ░ └───┘      ░  ║ └╥┘ ░ »\n",
      "       B: ─────────────────────────────░──────┤ X ├─░────────────░──╫──╫──░─»\n",
      "                                       ░      └───┘ ░            ░  ║  ║  ░ »\n",
      "     a: 1/══════════════════════════════════════════════════════════╬══╩════»\n",
      "                                                                    ║  0    »\n",
      "     b: 1/══════════════════════════════════════════════════════════╩═══════»\n",
      "                                                                    0       »\n",
      "Result: 1/══════════════════════════════════════════════════════════════════»\n",
      "                                                                            »\n",
      "«                                                         ░ »\n",
      "«       Q: ───────────────────────────────────────────────░─»\n",
      "«                                                         ░ »\n",
      "«       A: ───────────────────────────────────────────────░─»\n",
      "«          ┌────── ┌───┐ ───────┐ ┌────── ┌───┐ ───────┐  ░ »\n",
      "«       B: ┤ If-0  ┤ X ├  End-0 ├─┤ If-0  ┤ Z ├  End-0 ├──░─»\n",
      "«          └──╥─── └───┘ ───────┘ └──╥─── └───┘ ───────┘  ░ »\n",
      "«          ┌──╨──┐                   ║                      »\n",
      "«     a: 1/╡ 0x1 ╞═══════════════════╬══════════════════════»\n",
      "«          └─────┘                ┌──╨──┐                   »\n",
      "«     b: 1/═══════════════════════╡ 0x1 ╞═══════════════════»\n",
      "«                                 └─────┘                   »\n",
      "«Result: 1/═════════════════════════════════════════════════»\n",
      "«                                                           »\n",
      "«                                            \n",
      "«       Q: ──────────────────────────────────\n",
      "«                                            \n",
      "«       A: ──────────────────────────────────\n",
      "«          ┌─────────────────────────────┐┌─┐\n",
      "«       B: ┤ U(-2.2969,-0.77794,-4.8604) ├┤M├\n",
      "«          └─────────────────────────────┘└╥┘\n",
      "«     a: 1/════════════════════════════════╬═\n",
      "«                                          ║ \n",
      "«     b: 1/════════════════════════════════╬═\n",
      "«                                          ║ \n",
      "«Result: 1/════════════════════════════════╩═\n",
      "«                                          0 \n"
     ]
    }
   ],
   "source": [
    "test = QuantumCircuit(qubit, ebit0, ebit1, a, b)\n",
    "\n",
    "test.append(random_gate, qubit)\n",
    "test.barrier()\n",
    "\n",
    "test = test.compose(protocol)       # Including the protocol as defined before\n",
    "test.barrier()\n",
    "\n",
    "# Apply random unitary to B and measure\n",
    "test.append(random_gate.inverse(), ebit1)\n",
    "\n",
    "result = ClassicalRegister(1, \"Result\")\n",
    "test.add_register(result)\n",
    "test.measure(ebit1, result)\n",
    "\n",
    "print(test.draw())"
   ]
  },
  {
   "cell_type": "code",
   "execution_count": 6,
   "id": "83352d71a3a008c7",
   "metadata": {
    "ExecuteTime": {
     "end_time": "2024-01-11T18:57:02.843605730Z",
     "start_time": "2024-01-11T18:57:01.798054952Z"
    },
    "collapsed": false,
    "jupyter": {
     "outputs_hidden": false
    }
   },
   "outputs": [
    {
     "data": {
      "image/png": "[encoded data removed]",
      "text/plain": [
       "<Figure size 700x500 with 1 Axes>"
      ]
     },
     "execution_count": 6,
     "metadata": {},
     "output_type": "execute_result"
    }
   ],
   "source": [
    "# AER simulation\n",
    "result = AerSimulator().run(test).result()\n",
    "statistics = result.get_counts()\n",
    "plot_histogram(statistics)"
   ]
  },
  {
   "cell_type": "markdown",
   "id": "58a88408c1d3e481",
   "metadata": {
    "collapsed": false,
    "jupyter": {
     "outputs_hidden": false
    }
   },
   "source": []
  },
  {
   "cell_type": "code",
   "execution_count": 7,
   "id": "6e8a0f5bd3247eb1",
   "metadata": {
    "ExecuteTime": {
     "end_time": "2024-01-11T18:57:02.946354149Z",
     "start_time": "2024-01-11T18:57:02.856417293Z"
    },
    "collapsed": false,
    "jupyter": {
     "outputs_hidden": false
    }
   },
   "outputs": [
    {
     "data": {
      "image/png": "[encoded data removed]",
      "text/plain": [
       "<Figure size 700x500 with 1 Axes>"
      ]
     },
     "execution_count": 7,
     "metadata": {},
     "output_type": "execute_result"
    }
   ],
   "source": [
    "filtered_statistics = marginal_distribution(statistics, [2])\n",
    "plot_histogram(filtered_statistics)"
   ]
  },
  {
   "cell_type": "code",
   "execution_count": 7,
   "id": "d11f7731d8b25955",
   "metadata": {
    "ExecuteTime": {
     "end_time": "2024-01-11T18:57:02.947011704Z",
     "start_time": "2024-01-11T18:57:02.946078326Z"
    },
    "collapsed": false,
    "jupyter": {
     "outputs_hidden": false
    }
   },
   "outputs": [],
   "source": []
  }
 ],
 "metadata": {
  "kernelspec": {
   "display_name": "Python 3 (ipykernel)",
   "language": "python",
   "name": "python3"
  },
  "language_info": {
   "codemirror_mode": {
    "name": "ipython",
    "version": 3
   },
   "file_extension": ".py",
   "mimetype": "text/x-python",
   "name": "python",
   "nbconvert_exporter": "python",
   "pygments_lexer": "ipython3",
   "version": "3.11.7"
  }
 },
 "nbformat": 4,
 "nbformat_minor": 5
}

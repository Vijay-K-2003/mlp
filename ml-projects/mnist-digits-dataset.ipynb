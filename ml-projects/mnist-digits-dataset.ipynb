{
 "cells": [
  {
   "cell_type": "code",
   "execution_count": 39,
   "id": "initial_id",
   "metadata": {
    "ExecuteTime": {
     "end_time": "2024-01-11T18:41:56.549122913Z",
     "start_time": "2024-01-11T18:41:56.545856839Z"
    },
    "collapsed": true,
    "jupyter": {
     "outputs_hidden": true
    }
   },
   "outputs": [],
   "source": [
    "import os\n",
    "# os.environ['CUDA_VISIBLE_DEVICES'] = '0'\n",
    "import tensorflow as tf\n",
    "from tensorflow.keras import layers, models\n",
    "from tensorflow.keras.models import Model\n",
    "import numpy as np\n",
    "import matplotlib.pyplot as plt"
   ]
  },
  {
   "cell_type": "code",
   "execution_count": 40,
   "id": "449f7e872495a430",
   "metadata": {
    "ExecuteTime": {
     "end_time": "2024-01-11T18:41:58.471852175Z",
     "start_time": "2024-01-11T18:41:58.300202560Z"
    },
    "collapsed": false,
    "jupyter": {
     "outputs_hidden": false
    }
   },
   "outputs": [],
   "source": [
    "mnist = tf.keras.datasets.mnist\n",
    "(train_images, train_labels), (test_images, test_labels) = mnist.load_data()"
   ]
  },
  {
   "cell_type": "code",
   "execution_count": 41,
   "id": "90528e180cffb83c",
   "metadata": {
    "ExecuteTime": {
     "end_time": "2024-01-11T18:41:59.403941137Z",
     "start_time": "2024-01-11T18:41:59.320606882Z"
    },
    "collapsed": false,
    "jupyter": {
     "outputs_hidden": false
    }
   },
   "outputs": [],
   "source": [
    "train_images = train_images.reshape((60000, 28, 28, 1)).astype('float32') / 255\n",
    "test_images = test_images.reshape((10000, 28, 28, 1)).astype('float32') / 255"
   ]
  },
  {
   "cell_type": "code",
   "execution_count": 42,
   "id": "ae658430d5226079",
   "metadata": {
    "ExecuteTime": {
     "end_time": "2024-01-11T18:41:59.871142452Z",
     "start_time": "2024-01-11T18:41:59.862017464Z"
    },
    "collapsed": false,
    "jupyter": {
     "outputs_hidden": false
    }
   },
   "outputs": [],
   "source": [
    "train_labels = tf.keras.utils.to_categorical(train_labels)\n",
    "test_labels = tf.keras.utils.to_categorical(test_labels)"
   ]
  },
  {
   "cell_type": "code",
   "execution_count": 43,
   "id": "8d318634eed10b2",
   "metadata": {
    "ExecuteTime": {
     "end_time": "2024-01-11T18:42:00.979442653Z",
     "start_time": "2024-01-11T18:42:00.503107574Z"
    },
    "collapsed": false,
    "jupyter": {
     "outputs_hidden": false
    }
   },
   "outputs": [
    {
     "name": "stderr",
     "output_type": "stream",
     "text": [
      "2024-01-12 00:12:00.557227: I external/local_xla/xla/stream_executor/cuda/cuda_executor.cc:901] successful NUMA node read from SysFS had negative value (-1), but there must be at least one NUMA node, so returning NUMA node zero. See more at https://github.com/torvalds/linux/blob/v6.0/Documentation/ABI/testing/sysfs-bus-pci#L344-L355\n",
      "2024-01-12 00:12:00.667386: I external/local_xla/xla/stream_executor/cuda/cuda_executor.cc:901] successful NUMA node read from SysFS had negative value (-1), but there must be at least one NUMA node, so returning NUMA node zero. See more at https://github.com/torvalds/linux/blob/v6.0/Documentation/ABI/testing/sysfs-bus-pci#L344-L355\n",
      "2024-01-12 00:12:00.667639: I external/local_xla/xla/stream_executor/cuda/cuda_executor.cc:901] successful NUMA node read from SysFS had negative value (-1), but there must be at least one NUMA node, so returning NUMA node zero. See more at https://github.com/torvalds/linux/blob/v6.0/Documentation/ABI/testing/sysfs-bus-pci#L344-L355\n",
      "2024-01-12 00:12:00.669601: I external/local_xla/xla/stream_executor/cuda/cuda_executor.cc:901] successful NUMA node read from SysFS had negative value (-1), but there must be at least one NUMA node, so returning NUMA node zero. See more at https://github.com/torvalds/linux/blob/v6.0/Documentation/ABI/testing/sysfs-bus-pci#L344-L355\n",
      "2024-01-12 00:12:00.669856: I external/local_xla/xla/stream_executor/cuda/cuda_executor.cc:901] successful NUMA node read from SysFS had negative value (-1), but there must be at least one NUMA node, so returning NUMA node zero. See more at https://github.com/torvalds/linux/blob/v6.0/Documentation/ABI/testing/sysfs-bus-pci#L344-L355\n",
      "2024-01-12 00:12:00.670005: I external/local_xla/xla/stream_executor/cuda/cuda_executor.cc:901] successful NUMA node read from SysFS had negative value (-1), but there must be at least one NUMA node, so returning NUMA node zero. See more at https://github.com/torvalds/linux/blob/v6.0/Documentation/ABI/testing/sysfs-bus-pci#L344-L355\n",
      "2024-01-12 00:12:00.750906: I external/local_xla/xla/stream_executor/cuda/cuda_executor.cc:901] successful NUMA node read from SysFS had negative value (-1), but there must be at least one NUMA node, so returning NUMA node zero. See more at https://github.com/torvalds/linux/blob/v6.0/Documentation/ABI/testing/sysfs-bus-pci#L344-L355\n",
      "2024-01-12 00:12:00.751104: I external/local_xla/xla/stream_executor/cuda/cuda_executor.cc:901] successful NUMA node read from SysFS had negative value (-1), but there must be at least one NUMA node, so returning NUMA node zero. See more at https://github.com/torvalds/linux/blob/v6.0/Documentation/ABI/testing/sysfs-bus-pci#L344-L355\n",
      "2024-01-12 00:12:00.751252: I external/local_xla/xla/stream_executor/cuda/cuda_executor.cc:901] successful NUMA node read from SysFS had negative value (-1), but there must be at least one NUMA node, so returning NUMA node zero. See more at https://github.com/torvalds/linux/blob/v6.0/Documentation/ABI/testing/sysfs-bus-pci#L344-L355\n",
      "2024-01-12 00:12:00.751369: I tensorflow/core/common_runtime/gpu/gpu_device.cc:1929] Created device /job:localhost/replica:0/task:0/device:GPU:0 with 1587 MB memory:  -> device: 0, name: NVIDIA GeForce MX450, pci bus id: 0000:01:00.0, compute capability: 7.5\n"
     ]
    }
   ],
   "source": [
    "model = models.Sequential()\n",
    "model.add(layers.Conv2D(32, (3, 3), activation='relu', input_shape=(28, 28, 1)))\n",
    "model.add(layers.MaxPooling2D((2, 2)))\n",
    "model.add(layers.Conv2D(64, (3, 3), activation='relu'))\n",
    "model.add(layers.MaxPooling2D((2, 2)))\n",
    "model.add(layers.Conv2D(64, (3, 3), activation='relu'))\n",
    "model.add(layers.Flatten())\n",
    "model.add(layers.Dense(64, activation='relu'))\n",
    "model.add(layers.Dense(10, activation='softmax'))"
   ]
  },
  {
   "cell_type": "code",
   "execution_count": 44,
   "id": "7c174fde6630aef",
   "metadata": {
    "ExecuteTime": {
     "end_time": "2024-01-11T18:42:16.698094945Z",
     "start_time": "2024-01-11T18:42:16.655724159Z"
    },
    "collapsed": false,
    "jupyter": {
     "outputs_hidden": false
    }
   },
   "outputs": [],
   "source": [
    "model.compile(optimizer='adam',loss='categorical_crossentropy', metrics=['accuracy'])"
   ]
  },
  {
   "cell_type": "code",
   "execution_count": 45,
   "id": "4bb9a04b7413fa08",
   "metadata": {
    "ExecuteTime": {
     "end_time": "2024-01-11T18:42:41.708897907Z",
     "start_time": "2024-01-11T18:42:19.190167696Z"
    },
    "collapsed": false,
    "jupyter": {
     "outputs_hidden": false
    }
   },
   "outputs": [
    {
     "name": "stdout",
     "output_type": "stream",
     "text": [
      "Epoch 1/5\n"
     ]
    },
    {
     "name": "stderr",
     "output_type": "stream",
     "text": [
      "2024-01-12 00:12:20.164547: I external/local_xla/xla/stream_executor/cuda/cuda_dnn.cc:454] Loaded cuDNN version 8904\n",
      "2024-01-12 00:12:20.869816: I external/local_xla/xla/service/service.cc:168] XLA service 0x7f2b8987da70 initialized for platform CUDA (this does not guarantee that XLA will be used). Devices:\n",
      "2024-01-12 00:12:20.869846: I external/local_xla/xla/service/service.cc:176]   StreamExecutor device (0): NVIDIA GeForce MX450, Compute Capability 7.5\n",
      "2024-01-12 00:12:20.878807: I tensorflow/compiler/mlir/tensorflow/utils/dump_mlir_util.cc:269] disabling MLIR crash reproducer, set env var `MLIR_CRASH_REPRODUCER_DIRECTORY` to enable.\n",
      "WARNING: All log messages before absl::InitializeLog() is called are written to STDERR\n",
      "I0000 00:00:1704998540.968616  359286 device_compiler.h:186] Compiled cluster using XLA!  This line is logged at most once for the lifetime of the process.\n"
     ]
    },
    {
     "name": "stdout",
     "output_type": "stream",
     "text": [
      "750/750 [==============================] - 7s 5ms/step - loss: 0.2103 - accuracy: 0.9374 - val_loss: 0.0837 - val_accuracy: 0.9737\n",
      "Epoch 2/5\n",
      "750/750 [==============================] - 4s 5ms/step - loss: 0.0600 - accuracy: 0.9814 - val_loss: 0.0742 - val_accuracy: 0.9783\n",
      "Epoch 3/5\n",
      "750/750 [==============================] - 4s 5ms/step - loss: 0.0425 - accuracy: 0.9867 - val_loss: 0.0456 - val_accuracy: 0.9867\n",
      "Epoch 4/5\n",
      "750/750 [==============================] - 4s 5ms/step - loss: 0.0319 - accuracy: 0.9897 - val_loss: 0.0454 - val_accuracy: 0.9870\n",
      "Epoch 5/5\n",
      "750/750 [==============================] - 4s 6ms/step - loss: 0.0263 - accuracy: 0.9911 - val_loss: 0.0428 - val_accuracy: 0.9870\n"
     ]
    },
    {
     "data": {
      "text/plain": [
       "<keras.src.callbacks.History at 0x7f2d6ee1d950>"
      ]
     },
     "execution_count": 45,
     "metadata": {},
     "output_type": "execute_result"
    }
   ],
   "source": [
    "model.fit(train_images, train_labels, epochs=5, batch_size=64, validation_split=0.2)"
   ]
  },
  {
   "cell_type": "code",
   "execution_count": 46,
   "id": "b9697a5b82212bc9",
   "metadata": {
    "ExecuteTime": {
     "end_time": "2024-01-11T18:42:47.368774015Z",
     "start_time": "2024-01-11T18:42:46.484780374Z"
    },
    "collapsed": false,
    "jupyter": {
     "outputs_hidden": false
    }
   },
   "outputs": [
    {
     "name": "stdout",
     "output_type": "stream",
     "text": [
      "313/313 [==============================] - 1s 3ms/step - loss: 0.0358 - accuracy: 0.9885\n",
      "Test accuracy: 0.9884999990463257\n"
     ]
    }
   ],
   "source": [
    "test_loss, test_acc = model.evaluate(test_images, test_labels)\n",
    "print(f'Test accuracy: {test_acc}')"
   ]
  },
  {
   "cell_type": "code",
   "execution_count": 47,
   "id": "c3821433537bbe4e",
   "metadata": {
    "ExecuteTime": {
     "end_time": "2024-01-11T18:42:48.941282123Z",
     "start_time": "2024-01-11T18:42:48.935774797Z"
    },
    "collapsed": false,
    "jupyter": {
     "outputs_hidden": false
    }
   },
   "outputs": [
    {
     "data": {
      "text/plain": [
       "[PhysicalDevice(name='/physical_device:CPU:0', device_type='CPU'),\n",
       " PhysicalDevice(name='/physical_device:GPU:0', device_type='GPU')]"
      ]
     },
     "execution_count": 47,
     "metadata": {},
     "output_type": "execute_result"
    }
   ],
   "source": [
    "tf.config.list_physical_devices()"
   ]
  },
  {
   "cell_type": "code",
   "execution_count": 48,
   "id": "a64eb116f0857da0",
   "metadata": {
    "ExecuteTime": {
     "end_time": "2024-01-11T18:42:50.433670356Z",
     "start_time": "2024-01-11T18:42:49.685841301Z"
    },
    "collapsed": false,
    "jupyter": {
     "outputs_hidden": false
    }
   },
   "outputs": [
    {
     "name": "stdout",
     "output_type": "stream",
     "text": [
      "1/1 [==============================] - 0s 423ms/step\n",
      "Skipping visualization for layer 5 due to unexpected shape: (1, 576)\n",
      "Skipping visualization for layer 6 due to unexpected shape: (1, 64)\n",
      "Skipping visualization for layer 7 due to unexpected shape: (1, 10)\n"
     ]
    },
    {
     "data": {
      "image/png": "[encoded data removed]",
      "text/plain": [
       "<Figure size 2000x2000 with 5 Axes>"
      ]
     },
     "metadata": {},
     "output_type": "display_data"
    }
   ],
   "source": [
    "sample_image = test_images[0]\n",
    "sample_image = np.expand_dims(sample_image, axis=0)  # Add batch dimension\n",
    "sample_label = np.argmax(test_labels[0])\n",
    "\n",
    "layer_outputs = [layer.output for layer in model.layers]\n",
    "activation_model = Model(inputs=model.input, outputs=layer_outputs)\n",
    "\n",
    "activations = activation_model.predict(sample_image)\n",
    "\n",
    "plt.figure(figsize=(20, 20))\n",
    "plt.subplot(1, len(activations) + 1, 1)\n",
    "plt.imshow(sample_image[0, :, :, 0], cmap='viridis')\n",
    "plt.title('Original Image')\n",
    "\n",
    "for i, activation in enumerate(activations[1:]):\n",
    "    if len(activation.shape) == 4:  \n",
    "        plt.subplot(1, len(activations) + 1, i + 2)\n",
    "        plt.imshow(activation[0, :, :, 0], cmap='viridis')\n",
    "        plt.title(f'Layer {i + 1}')\n",
    "    else:\n",
    "        print(f\"Skipping visualization for layer {i + 1} due to unexpected shape: {activation.shape}\")\n",
    "\n",
    "plt.show()"
   ]
  },
  {
   "cell_type": "code",
   "execution_count": 48,
   "id": "f73aa383d3a512ff",
   "metadata": {
    "ExecuteTime": {
     "end_time": "2024-01-11T18:42:52.162247240Z",
     "start_time": "2024-01-11T18:42:52.153103807Z"
    },
    "collapsed": false,
    "jupyter": {
     "outputs_hidden": false
    }
   },
   "outputs": [],
   "source": []
  },
  {
   "cell_type": "markdown",
   "id": "446e56a98730b825",
   "metadata": {
    "collapsed": false,
    "jupyter": {
     "outputs_hidden": false
    }
   },
   "source": [
    "# Pytorch"
   ]
  },
  {
   "cell_type": "code",
   "execution_count": 49,
   "id": "5e48a47a1fbab7b7",
   "metadata": {
    "ExecuteTime": {
     "end_time": "2024-01-11T18:42:53.179586747Z",
     "start_time": "2024-01-11T18:42:53.173555757Z"
    },
    "collapsed": false,
    "jupyter": {
     "outputs_hidden": false
    }
   },
   "outputs": [],
   "source": [
    "import torch\n",
    "import torch.nn as nn\n",
    "import torchvision\n",
    "import torchvision.transforms as transforms\n",
    "import matplotlib.pyplot as plt"
   ]
  },
  {
   "cell_type": "code",
   "execution_count": 50,
   "id": "af31f0af64c31619",
   "metadata": {
    "ExecuteTime": {
     "end_time": "2024-01-11T18:42:54.287150032Z",
     "start_time": "2024-01-11T18:42:54.282671651Z"
    },
    "collapsed": false,
    "jupyter": {
     "outputs_hidden": false
    }
   },
   "outputs": [
    {
     "data": {
      "text/plain": [
       "False"
      ]
     },
     "execution_count": 50,
     "metadata": {},
     "output_type": "execute_result"
    }
   ],
   "source": [
    "torch.cuda.is_available()"
   ]
  },
  {
   "cell_type": "code",
   "execution_count": 51,
   "id": "5766d08d0913ec3b",
   "metadata": {
    "ExecuteTime": {
     "end_time": "2024-01-11T18:42:54.671250249Z",
     "start_time": "2024-01-11T18:42:54.667055016Z"
    },
    "collapsed": false,
    "jupyter": {
     "outputs_hidden": false
    }
   },
   "outputs": [],
   "source": [
    "device = torch.device('cuda' if torch.cuda.is_available() else 'cpu')"
   ]
  },
  {
   "cell_type": "code",
   "execution_count": 52,
   "id": "b577df1fd26825ee",
   "metadata": {
    "ExecuteTime": {
     "end_time": "2024-01-11T18:42:55.033460870Z",
     "start_time": "2024-01-11T18:42:55.029694209Z"
    },
    "collapsed": false,
    "jupyter": {
     "outputs_hidden": false
    }
   },
   "outputs": [],
   "source": [
    "num_epochs = 5\n",
    "batch_size = 64\n",
    "learning_rate = 0.001"
   ]
  },
  {
   "cell_type": "code",
   "execution_count": 53,
   "id": "3b02b0e4ed99865d",
   "metadata": {
    "ExecuteTime": {
     "end_time": "2024-01-11T18:42:55.397102029Z",
     "start_time": "2024-01-11T18:42:55.369569302Z"
    },
    "collapsed": false,
    "jupyter": {
     "outputs_hidden": false
    }
   },
   "outputs": [],
   "source": [
    "train_dataset = torchvision.datasets.MNIST(root=\"./data\", train=True, transform=transforms.ToTensor(), download=True)\n",
    "test_dataset = torchvision.datasets.MNIST(root=\"./data\", train=False, transform=transforms.ToTensor())"
   ]
  },
  {
   "cell_type": "code",
   "execution_count": 54,
   "id": "529aa526bb906014",
   "metadata": {
    "ExecuteTime": {
     "end_time": "2024-01-11T18:42:55.806938722Z",
     "start_time": "2024-01-11T18:42:55.797863661Z"
    },
    "collapsed": false,
    "jupyter": {
     "outputs_hidden": false
    }
   },
   "outputs": [
    {
     "name": "stdout",
     "output_type": "stream",
     "text": [
      "Training size:  938\n",
      "Image Dims:  torch.Size([1, 28, 28])\n"
     ]
    }
   ],
   "source": [
    "train_loader = torch.utils.data.DataLoader(dataset=train_dataset, batch_size=batch_size, shuffle=True)\n",
    "test_loader = torch.utils.data.DataLoader(dataset=test_dataset, batch_size=batch_size, shuffle=False)\n",
    "print(\"Training size: \", len(train_loader))\n",
    "print(\"Image Dims: \", train_dataset[0][0].size())"
   ]
  },
  {
   "cell_type": "code",
   "execution_count": 55,
   "id": "d9e0dd75dc5bc3d9",
   "metadata": {
    "ExecuteTime": {
     "end_time": "2024-01-11T18:42:56.269385853Z",
     "start_time": "2024-01-11T18:42:56.265371064Z"
    },
    "collapsed": false,
    "jupyter": {
     "outputs_hidden": false
    }
   },
   "outputs": [],
   "source": [
    "class CNN(nn.Module):\n",
    "    def __init__(self):\n",
    "        super(CNN, self).__init__()\n",
    "        \n",
    "        self.layer1 = nn.Sequential(\n",
    "            nn.Conv2d(1, 32, kernel_size=3, padding=1),\n",
    "            nn.ReLU(),\n",
    "            nn.MaxPool2d(2)\n",
    "        )\n",
    "        \n",
    "        self.layer2 = nn.Sequential(\n",
    "            nn.Conv2d(32, 64, kernel_size=3),\n",
    "            nn.ReLU(),\n",
    "            nn.MaxPool2d(2)\n",
    "        )\n",
    "        \n",
    "        self.layer3 = nn.Sequential(\n",
    "            nn.Conv2d(64, 64, kernel_size=3),\n",
    "            nn.ReLU()\n",
    "        )\n",
    "        \n",
    "        self.flatten = nn.Flatten()\n",
    "        \n",
    "        self.fc1 = nn.Linear(64*4*4, 64)\n",
    "        self.fc2 = nn.Linear(64, 10)\n",
    "    \n",
    "    def forward(self, x):\n",
    "        out = self.layer1(x)\n",
    "        out = self.layer2(out)\n",
    "        out = self.layer3(out)\n",
    "        out = self.flatten(out)\n",
    "        out = self.fc1(out)\n",
    "        out = self.fc2(out)\n",
    "        return out"
   ]
  },
  {
   "cell_type": "code",
   "execution_count": 56,
   "id": "4e4b1074265d5060",
   "metadata": {
    "ExecuteTime": {
     "end_time": "2024-01-11T18:42:56.864025312Z",
     "start_time": "2024-01-11T18:42:56.858168017Z"
    },
    "collapsed": false,
    "jupyter": {
     "outputs_hidden": false
    }
   },
   "outputs": [],
   "source": [
    "model = CNN().to(device)"
   ]
  },
  {
   "cell_type": "code",
   "execution_count": 57,
   "id": "2398a4027413db26",
   "metadata": {
    "ExecuteTime": {
     "end_time": "2024-01-11T18:42:57.295045370Z",
     "start_time": "2024-01-11T18:42:57.290142592Z"
    },
    "collapsed": false,
    "jupyter": {
     "outputs_hidden": false
    }
   },
   "outputs": [],
   "source": [
    "criterion = nn.CrossEntropyLoss()\n",
    "optimizer = torch.optim.Adam(model.parameters(), lr=learning_rate)"
   ]
  },
  {
   "cell_type": "code",
   "execution_count": 58,
   "id": "173224075a6fb707",
   "metadata": {
    "ExecuteTime": {
     "end_time": "2024-01-11T18:45:18.451609300Z",
     "start_time": "2024-01-11T18:42:57.798756841Z"
    },
    "collapsed": false,
    "jupyter": {
     "outputs_hidden": false
    }
   },
   "outputs": [
    {
     "name": "stdout",
     "output_type": "stream",
     "text": [
      "Epoch [1/5], Step [100/938], Loss:  0.2252\n",
      "Epoch [1/5], Step [200/938], Loss:  0.2228\n",
      "Epoch [1/5], Step [300/938], Loss:  0.2530\n",
      "Epoch [1/5], Step [400/938], Loss:  0.1816\n",
      "Epoch [1/5], Step [500/938], Loss:  0.0312\n",
      "Epoch [1/5], Step [600/938], Loss:  0.1010\n",
      "Epoch [1/5], Step [700/938], Loss:  0.0206\n",
      "Epoch [1/5], Step [800/938], Loss:  0.0116\n",
      "Epoch [1/5], Step [900/938], Loss:  0.0354\n",
      "Epoch [2/5], Step [100/938], Loss:  0.0191\n",
      "Epoch [2/5], Step [200/938], Loss:  0.0473\n",
      "Epoch [2/5], Step [300/938], Loss:  0.0453\n",
      "Epoch [2/5], Step [400/938], Loss:  0.1140\n",
      "Epoch [2/5], Step [500/938], Loss:  0.0106\n",
      "Epoch [2/5], Step [600/938], Loss:  0.0500\n",
      "Epoch [2/5], Step [700/938], Loss:  0.0388\n",
      "Epoch [2/5], Step [800/938], Loss:  0.0151\n",
      "Epoch [2/5], Step [900/938], Loss:  0.0066\n",
      "Epoch [3/5], Step [100/938], Loss:  0.0409\n",
      "Epoch [3/5], Step [200/938], Loss:  0.0109\n",
      "Epoch [3/5], Step [300/938], Loss:  0.0215\n",
      "Epoch [3/5], Step [400/938], Loss:  0.0660\n",
      "Epoch [3/5], Step [500/938], Loss:  0.0397\n",
      "Epoch [3/5], Step [600/938], Loss:  0.0028\n",
      "Epoch [3/5], Step [700/938], Loss:  0.1309\n",
      "Epoch [3/5], Step [800/938], Loss:  0.0183\n",
      "Epoch [3/5], Step [900/938], Loss:  0.0825\n",
      "Epoch [4/5], Step [100/938], Loss:  0.0505\n",
      "Epoch [4/5], Step [200/938], Loss:  0.0349\n",
      "Epoch [4/5], Step [300/938], Loss:  0.0069\n",
      "Epoch [4/5], Step [400/938], Loss:  0.0648\n",
      "Epoch [4/5], Step [500/938], Loss:  0.0111\n",
      "Epoch [4/5], Step [600/938], Loss:  0.0141\n",
      "Epoch [4/5], Step [700/938], Loss:  0.0027\n",
      "Epoch [4/5], Step [800/938], Loss:  0.0066\n",
      "Epoch [4/5], Step [900/938], Loss:  0.0323\n",
      "Epoch [5/5], Step [100/938], Loss:  0.0221\n",
      "Epoch [5/5], Step [200/938], Loss:  0.0372\n",
      "Epoch [5/5], Step [300/938], Loss:  0.0050\n",
      "Epoch [5/5], Step [400/938], Loss:  0.0254\n",
      "Epoch [5/5], Step [500/938], Loss:  0.0276\n",
      "Epoch [5/5], Step [600/938], Loss:  0.0734\n",
      "Epoch [5/5], Step [700/938], Loss:  0.0033\n",
      "Epoch [5/5], Step [800/938], Loss:  0.0009\n",
      "Epoch [5/5], Step [900/938], Loss:  0.0042\n"
     ]
    }
   ],
   "source": [
    "for epoch in range(num_epochs):\n",
    "    for i, (images, labels) in enumerate(train_loader):\n",
    "        images, labels = images.to(device), labels.to(device)\n",
    "        # print (\"Dims : \", images.size()) # Size is [64, 1, 28, 28]\n",
    "        outputs = model(images)\n",
    "        loss = criterion(outputs, labels)\n",
    "        optimizer.zero_grad()\n",
    "        loss.backward()\n",
    "        optimizer.step()\n",
    "        \n",
    "        if (i+1) % 100 == 0:\n",
    "            print(f'Epoch [{epoch + 1}/{num_epochs}], Step [{i+1}/{len(train_loader)}], Loss: {loss.item(): .4f}')"
   ]
  },
  {
   "cell_type": "code",
   "execution_count": 59,
   "id": "e8d2d132a2516dfc",
   "metadata": {
    "ExecuteTime": {
     "end_time": "2024-01-11T18:45:21.375627912Z",
     "start_time": "2024-01-11T18:45:18.457625271Z"
    },
    "collapsed": false,
    "jupyter": {
     "outputs_hidden": false
    }
   },
   "outputs": [
    {
     "name": "stdout",
     "output_type": "stream",
     "text": [
      "Test accuracy:  99.05 %\n"
     ]
    }
   ],
   "source": [
    "model.eval()\n",
    "with torch.no_grad():\n",
    "    correct = 0\n",
    "    total = 0\n",
    "    \n",
    "    for images, labels in test_loader:\n",
    "        images, labels = images.to(device), labels.to(device)\n",
    "        outputs = model(images)\n",
    "        \n",
    "        _, predicted = torch.max(outputs.data, 1)\n",
    "        total += labels.size(0)\n",
    "        correct += (predicted == labels).sum().item()\n",
    "    \n",
    "    print(f'Test accuracy: {100 * correct / total: .2f} %')"
   ]
  },
  {
   "cell_type": "code",
   "execution_count": 60,
   "id": "52db9dcede593f93",
   "metadata": {
    "ExecuteTime": {
     "end_time": "2024-01-11T18:45:21.376254031Z",
     "start_time": "2024-01-11T18:45:21.364982926Z"
    },
    "collapsed": false,
    "jupyter": {
     "outputs_hidden": false
    }
   },
   "outputs": [],
   "source": [
    "sample_image, sample_label = next(iter(test_loader))\n",
    "sample_image, sample_label = sample_image.to(device), sample_label.to(device)"
   ]
  },
  {
   "cell_type": "code",
   "execution_count": 61,
   "id": "28aca2d05260bb89",
   "metadata": {
    "ExecuteTime": {
     "end_time": "2024-01-11T18:45:21.417128899Z",
     "start_time": "2024-01-11T18:45:21.373838436Z"
    },
    "collapsed": false,
    "jupyter": {
     "outputs_hidden": false
    }
   },
   "outputs": [],
   "source": [
    "class FeatureExtractor(nn.Module):\n",
    "    def __init__(self, original_model, layer_indices):\n",
    "        super(FeatureExtractor, self).__init__()\n",
    "        \n",
    "        self.features = nn.ModuleList([\n",
    "            original_model.layer1,\n",
    "            original_model.layer2,\n",
    "            original_model.layer3\n",
    "        ])\n",
    "        \n",
    "        self.layer_indices = layer_indices\n",
    "    \n",
    "    def forward(self, x):\n",
    "        activations = []\n",
    "        for i, layer in enumerate(self.features):\n",
    "            x = layer(x)\n",
    "            if i in self.layer_indices:\n",
    "                activations.append(x)\n",
    "        \n",
    "        return activations"
   ]
  },
  {
   "cell_type": "code",
   "execution_count": 62,
   "id": "ced99ea55cb3e4a6",
   "metadata": {
    "ExecuteTime": {
     "end_time": "2024-01-11T18:45:21.435259907Z",
     "start_time": "2024-01-11T18:45:21.413965630Z"
    },
    "collapsed": false,
    "jupyter": {
     "outputs_hidden": false
    }
   },
   "outputs": [],
   "source": [
    "layer_indices = [0, 1, 2]\n",
    "feature_extractor = FeatureExtractor(model, layer_indices).to(device)\n",
    "activations = feature_extractor(sample_image)"
   ]
  },
  {
   "cell_type": "code",
   "execution_count": 63,
   "id": "b5e39a04ef0cf6dd",
   "metadata": {
    "ExecuteTime": {
     "end_time": "2024-01-11T18:45:21.643945408Z",
     "start_time": "2024-01-11T18:45:21.432156911Z"
    },
    "collapsed": false,
    "jupyter": {
     "outputs_hidden": false
    }
   },
   "outputs": [
    {
     "data": {
      "text/plain": [
       "Text(0.5, 1.0, 'Original Image')"
      ]
     },
     "execution_count": 63,
     "metadata": {},
     "output_type": "execute_result"
    },
    {
     "data": {
      "image/png": "[encoded data removed]",
      "text/plain": [
       "<Figure size 1000x1000 with 1 Axes>"
      ]
     },
     "metadata": {},
     "output_type": "display_data"
    }
   ],
   "source": [
    "plt.figure(figsize=(10, 10))\n",
    "plt.subplot(1, len(activations) + 1, 1)\n",
    "plt.imshow(sample_image[0, 0].cpu(), cmap='viridis')\n",
    "plt.title(\"Original Image\")"
   ]
  },
  {
   "cell_type": "code",
   "execution_count": 64,
   "id": "5b34b49edd4dca28",
   "metadata": {
    "ExecuteTime": {
     "end_time": "2024-01-11T18:45:21.875790100Z",
     "start_time": "2024-01-11T18:45:21.638037172Z"
    },
    "collapsed": false,
    "jupyter": {
     "outputs_hidden": false
    }
   },
   "outputs": [
    {
     "data": {
      "image/png": "[encoded data removed]",
      "text/plain": [
       "<Figure size 640x480 with 3 Axes>"
      ]
     },
     "metadata": {},
     "output_type": "display_data"
    }
   ],
   "source": [
    "for i, activation in enumerate(activations):\n",
    "    plt.subplot(1, len(activations) + 1, i+2)\n",
    "    plt.imshow(activation[0, 0].cpu().detach(), cmap='viridis')\n",
    "    plt.title(f'Layer {layer_indices[i]}')\n",
    "\n",
    "plt.show()"
   ]
  },
  {
   "cell_type": "code",
   "execution_count": null,
   "id": "49a51902f55f22e9",
   "metadata": {
    "collapsed": false,
    "jupyter": {
     "outputs_hidden": false
    }
   },
   "outputs": [],
   "source": []
  }
 ],
 "metadata": {
  "kernelspec": {
   "display_name": "Python 3 (ipykernel)",
   "language": "python",
   "name": "python3"
  },
  "language_info": {
   "codemirror_mode": {
    "name": "ipython",
    "version": 3
   },
   "file_extension": ".py",
   "mimetype": "text/x-python",
   "name": "python",
   "nbconvert_exporter": "python",
   "pygments_lexer": "ipython3",
   "version": "3.11.7"
  }
 },
 "nbformat": 4,
 "nbformat_minor": 5
}

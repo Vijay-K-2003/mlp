{
 "cells": [
  {
   "cell_type": "code",
   "execution_count": 3,
   "id": "initial_id",
   "metadata": {
    "collapsed": true,
    "ExecuteTime": {
     "end_time": "2024-01-09T13:51:23.824257581Z",
     "start_time": "2024-01-09T13:51:23.819232011Z"
    }
   },
   "outputs": [],
   "source": [
    "import os\n",
    "os.environ['CUDA_VISIBLE_DEVICES'] = '0'\n",
    "import tensorflow as tf\n",
    "from tensorflow.keras import layers, models\n",
    "from tensorflow.keras.models import Model\n",
    "import numpy as np\n",
    "import matplotlib.pyplot as plt"
   ]
  },
  {
   "cell_type": "code",
   "execution_count": 4,
   "outputs": [],
   "source": [
    "mnist = tf.keras.datasets.mnist\n",
    "(train_images, train_labels), (test_images, test_labels) = mnist.load_data()"
   ],
   "metadata": {
    "collapsed": false,
    "ExecuteTime": {
     "end_time": "2024-01-09T13:51:25.176273995Z",
     "start_time": "2024-01-09T13:51:25.002019762Z"
    }
   },
   "id": "449f7e872495a430"
  },
  {
   "cell_type": "code",
   "execution_count": 5,
   "outputs": [],
   "source": [
    "train_images = train_images.reshape((60000, 28, 28, 1)).astype('float32') / 255\n",
    "test_images = test_images.reshape((10000, 28, 28, 1)).astype('float32') / 255"
   ],
   "metadata": {
    "collapsed": false,
    "ExecuteTime": {
     "end_time": "2024-01-09T13:51:25.806553589Z",
     "start_time": "2024-01-09T13:51:25.729645137Z"
    }
   },
   "id": "90528e180cffb83c"
  },
  {
   "cell_type": "code",
   "execution_count": 6,
   "outputs": [],
   "source": [
    "train_labels = tf.keras.utils.to_categorical(train_labels)\n",
    "test_labels = tf.keras.utils.to_categorical(test_labels)"
   ],
   "metadata": {
    "collapsed": false,
    "ExecuteTime": {
     "end_time": "2024-01-09T13:51:26.278977406Z",
     "start_time": "2024-01-09T13:51:26.226761215Z"
    }
   },
   "id": "ae658430d5226079"
  },
  {
   "cell_type": "code",
   "execution_count": 7,
   "outputs": [],
   "source": [
    "model = models.Sequential()\n",
    "model.add(layers.Conv2D(32, (3, 3), activation='relu', input_shape=(28, 28, 1)))\n",
    "model.add(layers.MaxPooling2D((2, 2)))\n",
    "model.add(layers.Conv2D(64, (3, 3), activation='relu'))\n",
    "model.add(layers.MaxPooling2D((2, 2)))\n",
    "model.add(layers.Conv2D(64, (3, 3), activation='relu'))\n",
    "model.add(layers.Flatten())\n",
    "model.add(layers.Dense(64, activation='relu'))\n",
    "model.add(layers.Dense(10, activation='softmax'))"
   ],
   "metadata": {
    "collapsed": false,
    "ExecuteTime": {
     "end_time": "2024-01-09T13:51:26.981215271Z",
     "start_time": "2024-01-09T13:51:26.786762304Z"
    }
   },
   "id": "8d318634eed10b2"
  },
  {
   "cell_type": "code",
   "execution_count": 8,
   "outputs": [],
   "source": [
    "model.compile(optimizer='adam',loss='categorical_crossentropy', metrics=['accuracy'])"
   ],
   "metadata": {
    "collapsed": false,
    "ExecuteTime": {
     "end_time": "2024-01-09T13:51:27.735067550Z",
     "start_time": "2024-01-09T13:51:27.687484712Z"
    }
   },
   "id": "7c174fde6630aef"
  },
  {
   "cell_type": "code",
   "execution_count": 9,
   "outputs": [
    {
     "name": "stdout",
     "output_type": "stream",
     "text": [
      "Epoch 1/5\n",
      "750/750 [==============================] - 15s 18ms/step - loss: 0.2142 - accuracy: 0.9363 - val_loss: 0.0862 - val_accuracy: 0.9746\n",
      "Epoch 2/5\n",
      "750/750 [==============================] - 15s 20ms/step - loss: 0.0564 - accuracy: 0.9823 - val_loss: 0.0640 - val_accuracy: 0.9799\n",
      "Epoch 3/5\n",
      "750/750 [==============================] - 14s 19ms/step - loss: 0.0392 - accuracy: 0.9876 - val_loss: 0.0491 - val_accuracy: 0.9852\n",
      "Epoch 4/5\n",
      "750/750 [==============================] - 12s 17ms/step - loss: 0.0311 - accuracy: 0.9902 - val_loss: 0.0472 - val_accuracy: 0.9868\n",
      "Epoch 5/5\n",
      "750/750 [==============================] - 11s 15ms/step - loss: 0.0244 - accuracy: 0.9920 - val_loss: 0.0411 - val_accuracy: 0.9877\n"
     ]
    },
    {
     "data": {
      "text/plain": "<keras.src.callbacks.History at 0x7fdf61966ed0>"
     },
     "execution_count": 9,
     "metadata": {},
     "output_type": "execute_result"
    }
   ],
   "source": [
    "model.fit(train_images, train_labels, epochs=5, batch_size=64, validation_split=0.2)"
   ],
   "metadata": {
    "collapsed": false,
    "ExecuteTime": {
     "end_time": "2024-01-09T13:52:37.024467110Z",
     "start_time": "2024-01-09T13:51:28.827320609Z"
    }
   },
   "id": "4bb9a04b7413fa08"
  },
  {
   "cell_type": "code",
   "execution_count": 10,
   "outputs": [
    {
     "name": "stdout",
     "output_type": "stream",
     "text": [
      "313/313 [==============================] - 1s 2ms/step - loss: 0.0305 - accuracy: 0.9904\n",
      "Test accuracy: 0.9904000163078308\n"
     ]
    }
   ],
   "source": [
    "test_loss, test_acc = model.evaluate(test_images, test_labels)\n",
    "print(f'Test accuracy: {test_acc}')"
   ],
   "metadata": {
    "collapsed": false,
    "ExecuteTime": {
     "end_time": "2024-01-09T13:52:40.693620200Z",
     "start_time": "2024-01-09T13:52:39.931005498Z"
    }
   },
   "id": "b9697a5b82212bc9"
  },
  {
   "cell_type": "code",
   "execution_count": 11,
   "outputs": [
    {
     "data": {
      "text/plain": "[PhysicalDevice(name='/physical_device:CPU:0', device_type='CPU')]"
     },
     "execution_count": 11,
     "metadata": {},
     "output_type": "execute_result"
    }
   ],
   "source": [
    "tf.config.list_physical_devices()"
   ],
   "metadata": {
    "collapsed": false,
    "ExecuteTime": {
     "end_time": "2024-01-09T13:52:42.537647416Z",
     "start_time": "2024-01-09T13:52:42.494198196Z"
    }
   },
   "id": "c3821433537bbe4e"
  },
  {
   "cell_type": "code",
   "execution_count": 12,
   "outputs": [
    {
     "name": "stdout",
     "output_type": "stream",
     "text": [
      "1/1 [==============================] - 0s 75ms/step\n",
      "Skipping visualization for layer 5 due to unexpected shape: (1, 576)\n",
      "Skipping visualization for layer 6 due to unexpected shape: (1, 64)\n",
      "Skipping visualization for layer 7 due to unexpected shape: (1, 10)\n"
     ]
    },
    {
     "data": {
      "text/plain": "<Figure size 2000x2000 with 5 Axes>",
      "image/png": "[encoded data removed]"
     },
     "metadata": {},
     "output_type": "display_data"
    }
   ],
   "source": [
    "sample_image = test_images[0]\n",
    "sample_image = np.expand_dims(sample_image, axis=0)  # Add batch dimension\n",
    "sample_label = np.argmax(test_labels[0])\n",
    "\n",
    "layer_outputs = [layer.output for layer in model.layers]\n",
    "activation_model = Model(inputs=model.input, outputs=layer_outputs)\n",
    "\n",
    "activations = activation_model.predict(sample_image)\n",
    "\n",
    "plt.figure(figsize=(20, 20))\n",
    "plt.subplot(1, len(activations) + 1, 1)\n",
    "plt.imshow(sample_image[0, :, :, 0], cmap='viridis')\n",
    "plt.title('Original Image')\n",
    "\n",
    "for i, activation in enumerate(activations[1:]):\n",
    "    if len(activation.shape) == 4:  \n",
    "        plt.subplot(1, len(activations) + 1, i + 2)\n",
    "        plt.imshow(activation[0, :, :, 0], cmap='viridis')\n",
    "        plt.title(f'Layer {i + 1}')\n",
    "    else:\n",
    "        print(f\"Skipping visualization for layer {i + 1} due to unexpected shape: {activation.shape}\")\n",
    "\n",
    "plt.show()"
   ],
   "metadata": {
    "collapsed": false,
    "ExecuteTime": {
     "end_time": "2024-01-09T13:52:44.982856073Z",
     "start_time": "2024-01-09T13:52:44.571647157Z"
    }
   },
   "id": "a64eb116f0857da0"
  },
  {
   "cell_type": "code",
   "outputs": [],
   "source": [],
   "metadata": {
    "collapsed": false
   },
   "id": "f73aa383d3a512ff"
  }
 ],
 "metadata": {
  "kernelspec": {
   "display_name": "Python 3",
   "language": "python",
   "name": "python3"
  },
  "language_info": {
   "codemirror_mode": {
    "name": "ipython",
    "version": 2
   },
   "file_extension": ".py",
   "mimetype": "text/x-python",
   "name": "python",
   "nbconvert_exporter": "python",
   "pygments_lexer": "ipython2",
   "version": "2.7.6"
  }
 },
 "nbformat": 4,
 "nbformat_minor": 5
}

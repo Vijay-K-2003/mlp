import numpy as np
import networkx as nx
import matplotlib.pyplot as plt
from matplotlib.gridspec import GridSpec
from qiskit import transpile, QuantumCircuit, QuantumRegister, ClassicalRegister
from qiskit.circuit.library import UnitaryGate
from qiskit.visualization import plot_histogram
from qiskit_aer import Aer, AerSimulator


def nXOR(qc, qubits, output):
    for q in qubits:
        qc.cx(q, output)
    qc.barrier()


def XOR1(qc, a, output):
    qc.cx(a, output)
    qc.barrier()


def get_phase_gate(n):
    size = 2**n
    i = -np.eye(size)
    i[0][0] = 1
    phase_gate = UnitaryGate(i)
    return phase_gate


def diffuser(n):
    qc = QuantumCircuit(n)
    for q in range(n):
        qc.h(q)
    qc.append(get_phase_gate(n), range(n))
    for q in range(n):
        qc.h(q)
    U_s = qc.to_gate()
    U_s.name = "U_s"
    return U_s


def generate_clause_list(A, n):
    clause_list = []
    
    for i in range(n):
        l = []
        for j in range(n):
            if A.item((i, j)) == 1:
                l.append(j)
        clause_list.append(l)
    
    return clause_list


def lights_out_oracle(n, qc, var_qubits, p_qubits, eq_qubits, sol_qubit, c_bits, clause_list):
    
    qc.barrier()
    i = 0
    for clause in clause_list:
        clause = [var_qubits[c] for c in clause]
        nXOR(qc, clause, eq_qubits[i])
        i += 1
    
    for i in range(n):
        XOR1(qc, p_qubits[i], eq_qubits[i])
    qc.x(eq_qubits)
    
    qc.mcx(eq_qubits, sol_qubit)
    
    i = 0
    for clause in clause_list:
        clause = [var_qubits[c] for c in clause]
        nXOR(qc, clause, eq_qubits[i])
        i += 1
    
    for i in range(n):
        XOR1(qc, p_qubits[i], eq_qubits[i])
    qc.x(eq_qubits)
    
    qc.barrier()
    
    qc.append(diffuser(n), range(n))
    


def lights_out_solver(A, p, n, t, init_distribution):
    var_qubits = QuantumRegister(n, name='click')
    p_qubits = QuantumRegister(n, name='initial')
    eq_qubits = QuantumRegister(n, name='output')  
    sol_qubit = QuantumRegister(1, name='solution')
    c_bits = ClassicalRegister(n, name='classical')
    
    clause_list = generate_clause_list(A, n)
    qc = QuantumCircuit(var_qubits, p_qubits, eq_qubits, sol_qubit, c_bits)
    
    # INITIALIZATION
    # - STATE on SOLUTION QUBIT
    qc.x(sol_qubit)
    qc.h(sol_qubit)
    
    # Initial state to solve
    for i in range(n):
        if p[i] == 1:
            qc.x(p_qubits[i])
    
    
    # SUPERPOSITION OF BITSTRING
    """
    000 => 0
    001 010 100 (1, 1, 1) (1/deno, 1/deno, 1/deno)
    011 101 110 (1/2, 1/2, 1/2) => (1/(2*deno), ..)
    111         (1/3dno)
    deno^2 = (1^2 * 3 + (1/2)^2 * 3 + (1/3)^2 * 1)
    """
    qc.initialize(init_distribution, var_qubits)
    # qc.h(var_qubits)
    
    for i in range(t):
        lights_out_oracle(n, qc, var_qubits, p_qubits, eq_qubits, sol_qubit, c_bits, clause_list)
    
    for i in range(n):
        qc.measure(var_qubits[i], c_bits[i])
    
    return qc


import math

n = 8

deno_sq = sum([(1 / (i+1))**2 * math.comb(n, i+1) for i in range(n)])
deno = math.sqrt(deno_sq)
p = []
for i in range(n):
    prob = 1 / ((i + 1) * deno)
    p.append(prob)

print("Normalization factor (deno):", deno)
print("List of probabilities:", p)

s = 0
for idx, i in enumerate(p):
    s += i**2 * float(math.comb(n, idx+1))
print("Sum of squared probabilities:", s)

def count_ones(bit_string):
    return bit_string.count('1')

def generate_bit_strings(n):
    bit_strings = []
    for i in range(2**n):
        bit_string = bin(i)[2:].zfill(n)
        bit_strings.append(bit_string)
    return bit_strings

def map_to_ones_count(bit_strings):
    ones_count_map = {}
    for bit_string in bit_strings:
        ones_count = count_ones(bit_string)
        if bit_string not in ones_count_map:
            ones_count_map[bit_string] = ones_count
    return ones_count_map

bit_strings = generate_bit_strings(n)
ones_count_map = map_to_ones_count(bit_strings)
prob_map = {"00000000": [0, 0]}
state = [0]
for string, count in ones_count_map.items():
        if string != "00000000":
            state.append(p[count-1])
            prob_map[string] = []
            prob_map[string].append(p[count-1])
            prob_map[string].append(count_ones(string))
        print(f"{string} -> {count} -> {p[count-1]}")

s = 0
for i in state:
    s += i**2
print(len(state))


p = [1, 1, 1, 0, 0, 0, 0, 0]
A = np.matrix(
    [
        [1, 1, 1, 0, 0, 0, 0, 0],
        [1, 1, 1, 1, 0, 1, 1, 1],
        [1, 1, 1, 0, 1, 1, 0, 0],
        [0, 1, 0, 1, 0, 0, 1, 1],
        [0, 0, 1, 0, 1, 1, 1, 0],
        [0, 1, 1, 0, 1, 1, 0, 0],
        [0, 1, 0, 1, 1, 0, 1, 1],
        [0, 1, 0, 1, 0, 0, 1, 1]
    ]
)

qc = lights_out_solver(A, p, len(A), 3, state)


qasm_simulator = Aer.get_backend('qasm_simulator')
transpiled_qc = transpile(qc, qasm_simulator)
result = qasm_simulator.run(transpiled_qc, shots=10000).result()
plot_histogram(result.get_counts(), figsize=(75, 10))


print(result.get_counts())


# sorted(ones_count_map.items(), key=lambda x: x[1])


prob_map


sorted_map = dict(sorted(prob_map.items(), key=lambda item: item[1][1]))


print(sorted_map)


list(sorted_map.values())


gs = GridSpec(1, 1)
fig = plt.figure(figsize=(75, 20))
ax1 = fig.add_subplot(gs[0, 0])
ax1.plot(sorted_map.keys(), [value[0]*4096 for value in sorted_map.values()], "-")
ax1.set_xticklabels(ones_count_map.keys(), rotation=90)

plt.show()


# from qiskit.quantum_info import Statevector
# 
# # print(state)
# sv = Statevector(state)
# sv.draw(output='latex')
# # print(Statevector(state).to_latex())


# sv.draw(output='bloch')
# sv.draw(output='city')


# sv.draw(output='paulivec')


# sv.draw(output="mpl")


print(prob_map)


"""
Layer 1 : 
1 2
3 4
Layer 2 :
5 6
7 8
"""
A = np.matrix(
    [
        [1, 1, 1, 0, 1, 0, 0, 0],
        [1, 1, 0, 1, 0, 1, 0, 0],
        [1, 0, 1, 1, 0, 0, 1, 0],
        [1, 0, 0, 0, 1, 1, 1, 0],
        [1, 0, 0, 0, 1, 1, 1, 0],
        [0, 1, 0, 0, 1, 1, 0, 1],
        [0, 0, 1, 0, 1, 0, 1, 1],
        [0, 0, 0, 1, 0, 1, 1, 1],
    ]
)
p = [1, 1, 1, 1, 1, 1, 1, 1]
qc = lights_out_solver(A, p, len(A), 3, state)


qasm_simulator = Aer.get_backend('qasm_simulator')
transpiled_qc = transpile(qc, qasm_simulator)
result = qasm_simulator.run(transpiled_qc, shots=4096).result()
plot_histogram(result.get_counts(), figsize=(75, 10))




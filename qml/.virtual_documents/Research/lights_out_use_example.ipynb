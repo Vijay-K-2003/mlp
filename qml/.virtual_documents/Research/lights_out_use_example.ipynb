from qiskit import Aer, transpile, execute, assemble
from qiskit import QuantumCircuit, ClassicalRegister, QuantumRegister
from qiskit.circuit.library import UnitaryGate
# from qiskit.providers.ibmq import least_busy

from qiskit.visualization import plot_histogram


matrix = [[1, 0, 0, 0, 0, 0, 0, 0, 0, 0, 0, 0, 0, 0, 0, 0],
          [0, -1, 0, 0, 0, 0, 0, 0, 0, 0, 0, 0, 0, 0, 0, 0],
          [0, 0, -1, 0, 0, 0, 0, 0, 0, 0, 0, 0, 0, 0, 0, 0],
          [0, 0, 0, -1, 0, 0, 0, 0, 0, 0, 0, 0, 0, 0, 0, 0],
          [0, 0, 0, 0, -1, 0, 0, 0, 0, 0, 0, 0, 0, 0, 0, 0],
          [0, 0, 0, 0, 0, -1, 0, 0, 0, 0, 0, 0, 0, 0, 0, 0],
          [0, 0, 0, 0, 0, 0, -1, 0, 0, 0, 0, 0, 0, 0, 0, 0],
          [0, 0, 0, 0, 0, 0, 0, -1, 0, 0, 0, 0, 0, 0, 0, 0],
          [0, 0, 0, 0, 0, 0, 0, 0, -1, 0, 0, 0, 0, 0, 0, 0],
          [0, 0, 0, 0, 0, 0, 0, 0, 0, -1, 0, 0, 0, 0, 0, 0],
          [0, 0, 0, 0, 0, 0, 0, 0, 0, 0, -1, 0, 0, 0, 0, 0],
          [0, 0, 0, 0, 0, 0, 0, 0, 0, 0, 0, -1, 0, 0, 0, 0],
          [0, 0, 0, 0, 0, 0, 0, 0, 0, 0, 0, 0, -1, 0, 0, 0],
          [0, 0, 0, 0, 0, 0, 0, 0, 0, 0, 0, 0, 0, -1, 0, 0],
          [0, 0, 0, 0, 0, 0, 0, 0, 0, 0, 0, 0, 0, 0, -1, 0],
          [0, 0, 0, 0, 0, 0, 0, 0, 0, 0, 0, 0, 0, 0, 0, -1]]
phase_gate = UnitaryGate(matrix)


print(len(matrix))


nqubits=4
qc = QuantumCircuit(nqubits)
for qubit in range(nqubits):
    qc.h(qubit)
qc.append(phase_gate, [i for i in range(nqubits)])
for qubit in range(nqubits):
    qc.h(qubit)
qc.draw(fold=-1)


def diffuser(nqubits):
    qc = QuantumCircuit(nqubits)
    for qubit in range(nqubits):
        qc.h(qubit)
    qc.append(phase_gate, [i for i in range(nqubits)])
    for qubit in range(nqubits):
        qc.h(qubit)
    U_s = qc.to_gate()
    U_s.name = "U_s"
    return qc


def XOR3(qc, a, b, c, output):
    qc.cx(a, output)
    qc.cx(b, output)
    qc.cx(c, output)
    
def XOR1(qc, a, output):
    qc.cx(a, output)
    
def ANDGATE(qc, a, b, output):
    qc.x(a)
    qc.x(b)
    qc.ccx(a, b, output)
    qc.x(output)


# We will use separate registers to name the bits
in_qubits = QuantumRegister(3, name='input')
out_qubit = QuantumRegister(1, name='output')
qc = QuantumCircuit(in_qubits, out_qubit)
XOR3(qc, in_qubits[0], in_qubits[1], in_qubits[2], out_qubit)
qc.draw()


in_qubits = QuantumRegister(2, name='input')
out_qubit = QuantumRegister(1, name='output')

qc = QuantumCircuit(in_qubits, out_qubit)
ANDGATE(qc, in_qubits[0], in_qubits[1], out_qubit)
qc.draw()


clause_list_eq = [
    [0, 1, 2],
    [0, 1, 3],
    [0, 2, 3],
    [1, 2, 3]
]

n_qubits = 4

# Click vector 4 : 0 1 2 3
# P initial state vector 4 : 4 5 6 7
# Equations


# Create separate registers to name bits
var_qubits = QuantumRegister(n_qubits, name='click')
p_qubits = QuantumRegister(n_qubits, name='initial')
eq_qubits = QuantumRegister(n_qubits, name='output')  
sol_qubit = QuantumRegister(1, name='solution')
c_bits = ClassicalRegister(4, name='classical')

# Create quantum circuit
qc = QuantumCircuit(var_qubits, p_qubits, eq_qubits, sol_qubit, c_bits)

# INITIALIZATION
qc.x(sol_qubit)
qc.h(sol_qubit)
qc.h(var_qubits)
# qc.x(p_qubits[0])

qc.barrier()

# Use XOR gate to check each clause
i = 0
for clause in clause_list_eq:
    XOR3(qc, clause[0], clause[1], clause[2], eq_qubits[i])
    i += 1
    
for i in range(n_qubits):
    XOR1(qc, p_qubits[i], eq_qubits[i])
qc.x(eq_qubits)

qc.mcx(eq_qubits, sol_qubit)

i = 0
for clause in clause_list_eq:
    XOR3(qc, clause[0], clause[1], clause[2], eq_qubits[i])
    i += 1
    
for i in range(n_qubits):
    XOR1(qc, p_qubits[i], eq_qubits[i])
qc.x(eq_qubits)

qc.barrier()

qc.append(diffuser(4), [0,1,2,3])

qc.measure(var_qubits[0], c_bits[0])
qc.measure(var_qubits[1], c_bits[1])
qc.measure(var_qubits[2], c_bits[2])
qc.measure(var_qubits[3], c_bits[3])
# qc.measure(sol_qubit, c_bits[4])
qc.draw(fold=-1)


def lights_out_oracle(qc, var_qubits, p_qubits, eq_qubits, sol_qubit, c_bits):
    
    # Create quantum circuit    
    qc.barrier()
    
    # Use XOR gate to check each clause
    i = 0
    for clause in clause_list_eq:
        XOR3(qc, clause[0], clause[1], clause[2], eq_qubits[i])
        i += 1
        
    for i in range(n_qubits):
        XOR1(qc, p_qubits[i], eq_qubits[i])
    qc.x(eq_qubits)
    
    qc.mcx(eq_qubits, sol_qubit)
    
    i = 0
    for clause in clause_list_eq:
        XOR3(qc, clause[0], clause[1], clause[2], eq_qubits[i])
        i += 1
        
    for i in range(n_qubits):
        XOR1(qc, p_qubits[i], eq_qubits[i])
    qc.x(eq_qubits)
    
    qc.barrier()
    
    qc.append(diffuser(4), [0,1,2,3])
    


def lights_out_solver():
    var_qubits = QuantumRegister(n_qubits, name='click')
    p_qubits = QuantumRegister(n_qubits, name='initial')
    eq_qubits = QuantumRegister(n_qubits, name='output')  
    sol_qubit = QuantumRegister(1, name='solution')
    c_bits = ClassicalRegister(4, name='classical')
    qc = QuantumCircuit(var_qubits, p_qubits, eq_qubits, sol_qubit, c_bits)
    
    # INITIALIZATION
    # - STATE on SOLUTION QUBIT
    qc.x(sol_qubit)
    qc.h(sol_qubit)
    qc.x(p_qubits[0])
    
    # SUPERPOSITION OF BITSTRING
    qc.h(var_qubits)
    
    lights_out_oracle(qc, var_qubits, p_qubits, eq_qubits, sol_qubit, c_bits)
    
    lights_out_oracle(qc, var_qubits, p_qubits, eq_qubits, sol_qubit, c_bits)
    
    # lights_out_oracle(qc, var_qubits, p_qubits, eq_qubits, sol_qubit, c_bits)
    
    # lights_out_oracle(qc, var_qubits, p_qubits, eq_qubits, sol_qubit, c_bits)
    # 
    # lights_out_oracle(qc, var_qubits, p_qubits, eq_qubits, sol_qubit, c_bits)
    
    
    
    qc.measure(var_qubits[0], c_bits[0])
    qc.measure(var_qubits[1], c_bits[1])
    qc.measure(var_qubits[2], c_bits[2])
    qc.measure(var_qubits[3], c_bits[3])
    
    return qc
    
    


qc = lights_out_solver()

qc.draw(fold=-1)


qasm_simulator = Aer.get_backend('qasm_simulator')
transpiled_qc = transpile(qc, qasm_simulator)
result = qasm_simulator.run(transpiled_qc, shots=4096).result()
plot_histogram(result.get_counts())





import numpy as np


def nXOR(qc, qubits, output):
    for q in qubits:
        qc.cx(q, output)


def get_phase_gate(n):
    size = (n * n)**2
    i = np.eye(size)
    ii = 2 * np.eye(size)
    ii[0][0] = 0
    
    phase_gate = UnitaryGate(i - ii)
    return phase_gate


def diffuser(n):
    N = n * n
    qc = QuantumCircuit(N)
    for q in range(N):
        qc.h(q)
    qc.append(get_phase_gate(n), range(n))
    for q in range(N):
        qc.h(q)
    U_s = qc.to_gate()
    U_s.name = "U_s"
    return U_s


def generate_clause_list(A, n):
    clause_list = []
    
    for i in range(n):
        l = []
        for j in range(n):
            if A.item((i, j)) == 1:
                l.append(j)
        clause_list.append(l)
    
    return clause_list


# A = [[1, 1, 1, 0],
#      [1, 1, 0, 1],
#      [1, 0, 1, 1],
#      [0, 1, 1, 1]]
# clause_ex = generate_clause_list(A, 2)


# clause_ex


def lights_out_oracle(n, qc, var_qubits, p_qubits, eq_qubits, sol_qubit, c_bits, clause_list):
    
    qc.barrier()
    i = 0
    for clause in clause_list:
        nXOR(qc, clause, eq_qubits[i])
        i += 1
    
    for i in range(n * n):
        XOR1(qc, p_qubits[i], eq_qubits[i])
    qc.x(eq_qubits)
    
    qc.mcx(eq_qubits, sol_qubit)
    
    i = 0
    for clause in clause_list:
        nXOR(qc, clause, eq_qubits[i])
        i += 1
    
    for i in range(n * n):
        XOR1(qc, p_qubits[i], eq_qubits[i])
    qc.x(eq_qubits)
    
    qc.barrier()
    
    qc.append(diffuser(n), range(n*n))
    


def lights_out_solver(A, p, n, t):
    N = n*n
    var_qubits = QuantumRegister(N, name='click')
    p_qubits = QuantumRegister(N, name='initial')
    eq_qubits = QuantumRegister(N, name='output')  
    sol_qubit = QuantumRegister(1, name='solution')
    c_bits = ClassicalRegister(N, name='classical')
    
    clause_list = generate_clause_list(A, n)
    qc = QuantumCircuit(var_qubits, p_qubits, eq_qubits, sol_qubit, c_bits)
    
    # INITIALIZATION
    # - STATE on SOLUTION QUBIT
    qc.x(sol_qubit)
    qc.h(sol_qubit)
    
    # Initial state to solve
    for i in range(n):
        if p[i] == 1:
            qc.x(p_qubits[i])
    
    
    # SUPERPOSITION OF BITSTRING
    qc.h(var_qubits)
    
    for i in range(t):
        lights_out_oracle(n, qc, var_qubits, p_qubits, eq_qubits, sol_qubit, c_bits, clause_list)
    
    for i in range(N):
        qc.measure(var_qubits[i], c_bits[i])
    
    return qc


import networkx as nx


G = nx.circulant_graph(5, [1])
A = nx.adjacency_matrix(G) + np.eye(5)
print(A)
p = [1, 0, 0, 1, 0]
n = len(A)
qc = lights_out_solver(A, p, n, 2)

qc.draw(fold=-1)




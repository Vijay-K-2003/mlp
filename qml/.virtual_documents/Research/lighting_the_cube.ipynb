import numpy as np
import networkx as nx
import matplotlib.pyplot as plt
from matplotlib.gridspec import GridSpec
from qiskit import transpile, QuantumCircuit, QuantumRegister, ClassicalRegister
from qiskit.circuit.library import UnitaryGate
from qiskit.visualization import plot_histogram
from qiskit_aer import Aer, AerSimulator


def nXOR(qc, qubits, output):
    qc.x(qubits)
    qc.mcx(qubits, output)
    # qc.barrier()
    # qc.x(qubits)
    qc.x(output)
    qc.barrier()


testqc = QuantumCircuit(3)
nXOR(testqc, [0, 1], 2)
testqc.draw(fold=-1)


def XOR1(qc, a, output):
    qc.cx(a, output)
    qc.barrier()


def get_phase_gate(n):
    size = 2**n
    i = -np.eye(size)
    i[0][0] = 1
    phase_gate = UnitaryGate(i)
    return phase_gate


def diffuser(n):
    qc = QuantumCircuit(n)
    for q in range(n):
        qc.h(q)
    qc.append(get_phase_gate(n), range(n))
    for q in range(n):
        qc.h(q)
    U_s = qc.to_gate()
    U_s.name = "U_s"
    return U_s


def generate_clause_list(A, n):
    clause_list = []
    
    for i in range(n):
        l = []
        for j in range(n):
            if A.item((i, j)) == 1:
                l.append(j)
        clause_list.append(l)
    
    return clause_list


def lights_out_oracle(n, qc, var_qubits, eq_qubits, sol_qubit, c_bits, clause_list):
    
    qc.barrier()
    i = 0
    for clause in clause_list:
        clause = [var_qubits[c] for c in clause]
        nXOR(qc, clause, eq_qubits[i])
        i += 1
    
    # for i in range(n):
    #     XOR1(qc, p_qubits[i], eq_qubits[i])
    # qc.x(eq_qubits)
    
    qc.mcx(eq_qubits, sol_qubit)
    
    i = 0
    for clause in clause_list:
        clause = [var_qubits[c] for c in clause]
        nXOR(qc, clause, eq_qubits[i])
        qc.x(clause)
        i += 1
    
    # for i in range(n):
    #     XOR1(qc, p_qubits[i], eq_qubits[i])
    # qc.x(eq_qubits)
    
    qc.barrier()
    
    qc.append(diffuser(n), range(n))
    


def solveone(A, n, t):
    var_qubits = QuantumRegister(n, name='click')
    eq_qubits = QuantumRegister(n, name='output')  
    sol_qubit = QuantumRegister(1, name='solution')
    c_bits = ClassicalRegister(n, name='classical')
    
    clause_list = generate_clause_list(A, n)
    qc = QuantumCircuit(var_qubits, eq_qubits, sol_qubit, c_bits)
    
    # INITIALIZATION
    # - STATE on SOLUTION QUBIT
    qc.x(sol_qubit)
    qc.h(sol_qubit)
    
    # Initial state to solve
    # for i in range(n):
    #     if p[i] == 1:
    #         qc.x(p_qubits[i])
    
    
    # SUPERPOSITION OF BITSTRING
    qc.h(var_qubits)
    # qc.initialize(init_distribution, var_qubits)
    # qc.x(var_qubits[0])
    # qc.x(var_qubits[7])    
    
    for i in range(t):
        lights_out_oracle(n, qc, var_qubits, eq_qubits, sol_qubit, c_bits, clause_list)
    
    for i in range(n):
        qc.measure(var_qubits[i], c_bits[i])
    
    # qc.measure(sol_qubit, c_bits)
    
    return qc


def lights_out_solver(A, p, n, t, init_distribution):
# def lights_out_solver(A, p, n, t):
    var_qubits = QuantumRegister(n, name='click')
    p_qubits = QuantumRegister(n, name='initial')
    eq_qubits = QuantumRegister(n, name='output')  
    sol_qubit = QuantumRegister(1, name='solution')
    c_bits = ClassicalRegister(n, name='classical')
    
    clause_list = generate_clause_list(A, n)
    qc = QuantumCircuit(var_qubits, p_qubits, eq_qubits, sol_qubit, c_bits)
    
    # INITIALIZATION
    # - STATE on SOLUTION QUBIT
    qc.x(sol_qubit)
    qc.h(sol_qubit)
    
    # Initial state to solve
    for i in range(n):
        if p[i] == 1:
            qc.x(p_qubits[i])
    
    
    # SUPERPOSITION OF BITSTRING
    qc.h(var_qubits)
    # qc.initialize(init_distribution, var_qubits)
    
    for i in range(t):
        lights_out_oracle(n, qc, var_qubits, p_qubits, eq_qubits, sol_qubit, c_bits, clause_list)
    
    for i in range(n):
        qc.measure(var_qubits[i], c_bits[i])
    
    return qc


import math

n = 8

deno_sq = sum([(1 / (i+1))**2 * math.comb(n, i+1) for i in range(n)])
deno = math.sqrt(deno_sq)
p = []
for i in range(n):
    prob = 1 / ((i + 1) * deno)
    p.append(prob)

print("Normalization factor (deno):", deno)
print("List of probabilities:", p)

s = 0
for idx, i in enumerate(p):
    s += i**2 * float(math.comb(n, idx+1))
print("Sum of squared probabilities:", s)

def count_ones(bit_string):
    return bit_string.count('1')

def generate_bit_strings(n):
    bit_strings = []
    for i in range(2**n):
        bit_string = bin(i)[2:].zfill(n)
        bit_strings.append(bit_string)
    return bit_strings

def map_to_ones_count(bit_strings):
    ones_count_map = {}
    for bit_string in bit_strings:
        ones_count = count_ones(bit_string)
        if bit_string not in ones_count_map:
            ones_count_map[bit_string] = ones_count
    return ones_count_map

bit_strings = generate_bit_strings(n)
ones_count_map = map_to_ones_count(bit_strings)
prob_map = {"00000000": [0, 0]}
state = [0]
for string, count in ones_count_map.items():
        if string != "00000000":
            state.append(p[count-1])
            prob_map[string] = []
            prob_map[string].append(p[count-1])
            prob_map[string].append(count_ones(string))
        print(f"{string} -> {count} -> {p[count-1]}")

s = 0
for i in state:
    s += i**2
print(len(state))


"""
Layer 1 : 
1 2
3 4
Layer 2 :
5 6
7 8
"""
A = np.matrix(
    [
        [1, 1, 1, 0, 1, 0, 0, 0],
        [1, 1, 0, 1, 0, 1, 0, 0],
        [1, 0, 1, 1, 0, 0, 1, 0],
        [0, 1, 1, 1, 0, 0, 0, 1],
        [1, 0, 0, 0, 1, 1, 1, 0],
        [0, 1, 0, 0, 1, 1, 0, 1],
        [0, 0, 1, 0, 1, 0, 1, 1],
        [0, 0, 0, 1, 0, 1, 1, 1],
    ]
)
p = [0, 0, 0, 0, 0, 0, 0, 0]
qc = solveone(A, len(A), 8)
qc.draw(fold=-1)


qasm_simulator = Aer.get_backend('qasm_simulator')
transpiled_qc = transpile(qc, qasm_simulator)
result = qasm_simulator.run(transpiled_qc, shots=4096).result()
plot_histogram(result.get_counts(), figsize=(75, 10))


result.get_counts()


"""
Layer 1 : 
1 2
3 4
Layer 2 :
5 6
7 8
L 3:
9 10
11 12
"""
A = np.matrix(
    [
        [1, 1, 1, 0, 1, 0, 0, 0, 1, 0, 0, 0],
        [1, 1, 0, 1, 0, 1, 0, 0, 0, 1, 0, 0],
        [1, 0, 1, 1, 0, 0, 1, 0, 0, 0, 1, 0],
        [0, 1, 1, 1, 0, 0, 0, 1, 0, 0, 0, 1],
        [1, 0, 0, 0, 1, 1, 1, 0, 1, 0, 0, 0],
        [0, 1, 0, 0, 1, 1, 0, 1, 0, 1, 0, 0],
        [0, 0, 1, 0, 1, 0, 1, 1, 0, 0, 1, 0],
        [0, 0, 0, 1, 0, 1, 1, 1, 0, 0, 0, 1],
        [1, 0, 0, 0, 1, 0, 0, 0, 1, 1, 1, 0],
        [0, 1, 0, 0, 0, 1, 0, 0, 1, 1, 0, 1],
        [0, 0, 1, 0, 0, 0, 1, 0, 1, 0, 1, 1],
        [0, 0, 0, 1, 0, 0, 0, 1, 0, 1, 1, 1]
    ]
)
qc = solveone(A, len(A), 4)
qc.draw(fold=-1)


qasm_simulator = Aer.get_backend('qasm_simulator')
transpiled_qc = transpile(qc, qasm_simulator)
result = qasm_simulator.run(transpiled_qc, shots=4096).result()
plot_histogram(result.get_counts(), figsize=(75, 10))


result.get_counts()


results = []
for i in range(10):
    qc = solveone(A, len(A), i)
    qasm_simulator = Aer.get_backend('qasm_simulator')
    transpiled_qc = transpile(qc, qasm_simulator)
    result = qasm_simulator.run(transpiled_qc, shots=4096).result()
    # plot_histogram(result.get_counts(), figsize=(75, 10))
    results.append(result.get_counts())




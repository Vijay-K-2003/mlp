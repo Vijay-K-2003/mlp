from qiskit import Aer, transpile, execute, assemble
from qiskit import QuantumCircuit, ClassicalRegister, QuantumRegister
from qiskit.circuit.library import UnitaryGate
# from qiskit.providers.ibmq import least_busy

from qiskit.visualization import plot_histogram


matrix = [[1, 0, 0, 0, 0, 0, 0, 0, 0, 0, 0, 0, 0, 0, 0, 0],
          [0, -1, 0, 0, 0, 0, 0, 0, 0, 0, 0, 0, 0, 0, 0, 0],
          [0, 0, -1, 0, 0, 0, 0, 0, 0, 0, 0, 0, 0, 0, 0, 0],
          [0, 0, 0, -1, 0, 0, 0, 0, 0, 0, 0, 0, 0, 0, 0, 0],
          [0, 0, 0, 0, -1, 0, 0, 0, 0, 0, 0, 0, 0, 0, 0, 0],
          [0, 0, 0, 0, 0, -1, 0, 0, 0, 0, 0, 0, 0, 0, 0, 0],
          [0, 0, 0, 0, 0, 0, -1, 0, 0, 0, 0, 0, 0, 0, 0, 0],
          [0, 0, 0, 0, 0, 0, 0, -1, 0, 0, 0, 0, 0, 0, 0, 0],
          [0, 0, 0, 0, 0, 0, 0, 0, -1, 0, 0, 0, 0, 0, 0, 0],
          [0, 0, 0, 0, 0, 0, 0, 0, 0, -1, 0, 0, 0, 0, 0, 0],
          [0, 0, 0, 0, 0, 0, 0, 0, 0, 0, -1, 0, 0, 0, 0, 0],
          [0, 0, 0, 0, 0, 0, 0, 0, 0, 0, 0, -1, 0, 0, 0, 0],
          [0, 0, 0, 0, 0, 0, 0, 0, 0, 0, 0, 0, -1, 0, 0, 0],
          [0, 0, 0, 0, 0, 0, 0, 0, 0, 0, 0, 0, 0, -1, 0, 0],
          [0, 0, 0, 0, 0, 0, 0, 0, 0, 0, 0, 0, 0, 0, -1, 0],
          [0, 0, 0, 0, 0, 0, 0, 0, 0, 0, 0, 0, 0, 0, 0, -1]]
phase_gate = UnitaryGate(matrix)


# from qiskit.transpiler.passes import UnitarySynthesis
# circuit = QuantumCircuit(1)
# circuit.h([0])
# circuit.z([0])
# result = UnitarySynthesis(basis_gates=['rx', 'ry', 'rz'])(circuit)
# print(result)


nqubits=4
qc = QuantumCircuit(nqubits)
for qubit in range(nqubits):
    qc.h(qubit)
qc.append(phase_gate, [i for i in range(nqubits)])
for qubit in range(nqubits):
    qc.h(qubit)
qc.draw(fold=-1)


def diffuser(nqubits):
    qc = QuantumCircuit(nqubits)
    for qubit in range(nqubits):
        qc.h(qubit)
    qc.append(phase_gate, [i for i in range(nqubits)])
    for qubit in range(nqubits):
        qc.h(qubit)
    U_s = qc.to_gate()
    U_s.name = "U_s"
    # qc.draw(fold=-1)
    return qc


click_qubits = QuantumRegister(4, name='click')                 # These are input qubits
ax_qubit = QuantumRegister(1, name='a_times_x')                 # This is to select the x of A.x for each of the 4 equations
p_qubit = QuantumRegister(1, name='p')                          # This is to select the p initial state vector to the equations
equation_qubits = QuantumRegister(4, name='equations')          # The output of each equation is stored as 4 qubits
ors_qubits = QuantumRegister(2, name='ors')                     # eq1 OR eq2 => ors1 and ors1 OR eq3 => ors2 
solution_qubit = QuantumRegister(1, name='solution')            # ors2 OR eq4 => solution
q_qubit = QuantumRegister(1, name='q')
click_measured = ClassicalRegister(4, name='click_measured')    # Storing the measured click vector

qc = QuantumCircuit(click_qubits, ax_qubit, p_qubit, equation_qubits, ors_qubits, solution_qubit, q_qubit, click_measured)

def lights_out_solver(qc, click_qubits, ax_qubit, p_qubit, equation_qubits, ors_qubits, solution_qubit, q_qubit):
    # qc.reset(ax_qubit)
    # qc.reset(p_qubit)
    qc.reset(equation_qubits)
    # qc.reset(ors_qubits)
    # qc.reset(solution_qubit)
    
    qc.initialize([0, 1], ax_qubit)
    qc.initialize([0, 1], p_qubit)
    # Equation 1 : x1 ^ x2 ^ x3 ^ a11
    qc.ccx(ax_qubit, click_qubits[0], equation_qubits[0])
    qc.ccx(ax_qubit, click_qubits[1], equation_qubits[0])
    qc.ccx(ax_qubit, click_qubits[2], equation_qubits[0])
    qc.ccx(ax_qubit, p_qubit, equation_qubits[0])
    qc.barrier(equation_qubits)
    # Equation 2 : x1 ^ x2 ^ x4 ^ (a12 = 0)
    qc.ccx(ax_qubit, click_qubits[0], equation_qubits[1])
    qc.ccx(ax_qubit, click_qubits[1], equation_qubits[1])
    qc.ccx(ax_qubit, click_qubits[3], equation_qubits[1])
    qc.barrier(equation_qubits)
    # Equation 3 : x1 ^ x3 ^ x4 ^ (a21 = 0)
    qc.ccx(ax_qubit, click_qubits[0], equation_qubits[2])
    qc.ccx(ax_qubit, click_qubits[2], equation_qubits[2])
    qc.ccx(ax_qubit, click_qubits[3], equation_qubits[2])
    qc.barrier(equation_qubits)
    # Equation 4 : x2 ^ x3 ^ x4 ^ (a22 = 0)
    qc.ccx(ax_qubit, click_qubits[1], equation_qubits[3])
    qc.ccx(ax_qubit, click_qubits[2], equation_qubits[3])
    qc.ccx(ax_qubit, click_qubits[3], equation_qubits[3])
    qc.barrier(equation_qubits)
    # Equation ORS : out[0] || out[1] || out[2] || out[3]
    qc.x(equation_qubits)
    qc.barrier(equation_qubits)
    qc.ccx(equation_qubits[0], equation_qubits[1], ors_qubits[0])
    qc.ccx(ors_qubits[0], equation_qubits[2], ors_qubits[1])
    qc.ccx(ors_qubits[1], equation_qubits[3], solution_qubit)
    qc.ccx(ax_qubit[0], solution_qubit, q_qubit)
    
    ## UNCOMPUTE
    # Equation 1 : x1 ^ x2 ^ x3 ^ a11
    qc.ccx(ax_qubit, click_qubits[0], equation_qubits[0])
    qc.ccx(ax_qubit, click_qubits[1], equation_qubits[0])
    qc.ccx(ax_qubit, click_qubits[2], equation_qubits[0])
    qc.ccx(ax_qubit, p_qubit, equation_qubits[0])
    qc.barrier(equation_qubits)
    # Equation 2 : x1 ^ x2 ^ x4 ^ (a12 = 0)
    qc.ccx(ax_qubit, click_qubits[0], equation_qubits[1])
    qc.ccx(ax_qubit, click_qubits[1], equation_qubits[1])
    qc.ccx(ax_qubit, click_qubits[3], equation_qubits[1])
    qc.barrier(equation_qubits)
    # Equation 3 : x1 ^ x3 ^ x4 ^ (a21 = 0)
    qc.ccx(ax_qubit, click_qubits[0], equation_qubits[2])
    qc.ccx(ax_qubit, click_qubits[2], equation_qubits[2])
    qc.ccx(ax_qubit, click_qubits[3], equation_qubits[2])
    qc.barrier(equation_qubits)
    # Equation 4 : x2 ^ x3 ^ x4 ^ (a22 = 0)
    qc.ccx(ax_qubit, click_qubits[1], equation_qubits[3])
    qc.ccx(ax_qubit, click_qubits[2], equation_qubits[3])
    qc.ccx(ax_qubit, click_qubits[3], equation_qubits[3])
    qc.barrier(equation_qubits)
    
    # qc.measure(click_qubits, click_measured)

lights_out_solver(qc, click_qubits, ax_qubit, p_qubit, equation_qubits, ors_qubits, solution_qubit, q_qubit)
qc.draw(fold=-1)



click_qubits = QuantumRegister(4, name='click')                 # These are input qubits
ax_qubit = QuantumRegister(1, name='a_times_x')                 # This is to select the x of A.x for each of the 4 equations
p_qubit = QuantumRegister(1, name='p')                          # This is to select the p initial state vector to the equations
equation_qubits = QuantumRegister(4, name='equations')          # The output of each equation is stored as 4 qubits
ors_qubits = QuantumRegister(2, name='ors')                     # eq1 OR eq2 => ors1 and ors1 OR eq3 => ors2 
solution_qubit = QuantumRegister(1, name='solution')            # ors2 OR eq4 => solution
q_qubit = QuantumRegister(1, name='q')
click_measured = ClassicalRegister(4, name='click_measured')    # Storing the measured click vector

qc = QuantumCircuit(click_qubits, ax_qubit, p_qubit, equation_qubits, ors_qubits, solution_qubit, q_qubit, click_measured)
# qc.initialize([1 / np.sqrt(2), -1 / np.sqrt(2)], solution_qubit)                            # initialize solution to - state so phase kickback occurs
qc.x(q_qubit)
qc.h(q_qubit)

# qc.x(click_qubits[0])
# qc.x(click_qubits[1])
# qc.x(click_qubits[2])
qc.h(click_qubits)                                          # creating a superposition of all possible inputs
qc.barrier()                                                # seperator

# ORACLE RUN 1
lights_out_solver(qc, click_qubits, ax_qubit, p_qubit, equation_qubits, ors_qubits, solution_qubit, q_qubit)
qc.barrier()

# H P H
for qubit in range(4):
    qc.h(qubit)
qc.append(phase_gate, [i for i in range(4)])
for qubit in range(4):
    qc.h(qubit)

# ORACLE RUN 2
lights_out_solver(qc, click_qubits, ax_qubit, p_qubit, equation_qubits, ors_qubits, solution_qubit, q_qubit)
qc.barrier()

# H P H
for qubit in range(4):
    qc.h(qubit)
qc.append(phase_gate, [i for i in range(4)])
for qubit in range(4):
    qc.h(qubit)

qc.barrier()

qc.measure(click_qubits[0], click_measured[0])
qc.measure(click_qubits[1], click_measured[1])
qc.measure(click_qubits[2], click_measured[2])
qc.measure(click_qubits[3], click_measured[3])
# qc.measure(solution_qubit, click_measured[4])

qc.draw(fold=-1)


qasm_simulator = Aer.get_backend('qasm_simulator')
# transpiled_qc = transpile(qc, qasm_simulator)
result = qasm_simulator.run(qc, shots=4096).result()
plot_histogram(result.get_counts())


unitary_simulator = Aer.get_backend('unitary_simulator')
transpiled = transpile(qc, backend=unitary_simulator)
transpiled.draw('mpl')



qobj = assemble(transpiled)
unitary = unitary_simulator.run(qobj).result().get_unitary()


from qiskit.circuit.library import GroverOperator, ZGate
from qiskit.visualization import plot_distribution


grover_op = GroverOperator(oracle=lights_out_solver, state_preparation=)
grover_op.decompose().draw(output="mpl", style="iqp")



